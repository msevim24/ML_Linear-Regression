{
 "cells": [
  {
   "cell_type": "markdown",
   "metadata": {},
   "source": [
    "# Serving a Model as an API\n",
    "\n",
    "**NOTE: I will not use Jypter Notebook for this project. Instead, I will use Jypter Lab. There is another \".py\" file in this folder to be used in Lab.**\n",
    "\n",
    "**NOTE: We need to install Flask to serve the API: https://flask.palletsprojects.com/en/2.0.x/installation/**\n",
    "\n",
    "    pip install flask\n",
    "    \n",
    "    or\n",
    "    \n",
    "    conda install flask\n"
   ]
  },
  {
   "cell_type": "code",
   "execution_count": 1,
   "metadata": {},
   "outputs": [
    {
     "name": "stdout",
     "output_type": "stream",
     "text": [
      "Requirement already satisfied: flask in c:\\users\\admin\\anaconda3\\lib\\site-packages (2.2.5)\n",
      "Requirement already satisfied: Werkzeug>=2.2.2 in c:\\users\\admin\\anaconda3\\lib\\site-packages (from flask) (2.2.3)\n",
      "Requirement already satisfied: Jinja2>=3.0 in c:\\users\\admin\\anaconda3\\lib\\site-packages (from flask) (3.1.3)\n",
      "Requirement already satisfied: itsdangerous>=2.0 in c:\\users\\admin\\anaconda3\\lib\\site-packages (from flask) (2.0.1)\n",
      "Requirement already satisfied: click>=8.0 in c:\\users\\admin\\anaconda3\\lib\\site-packages (from flask) (8.1.7)\n",
      "Requirement already satisfied: colorama in c:\\users\\admin\\anaconda3\\lib\\site-packages (from click>=8.0->flask) (0.4.6)\n",
      "Requirement already satisfied: MarkupSafe>=2.0 in c:\\users\\admin\\anaconda3\\lib\\site-packages (from Jinja2>=3.0->flask) (2.1.3)\n"
     ]
    }
   ],
   "source": [
    "!pip install flask"
   ]
  },
  {
   "cell_type": "code",
   "execution_count": 2,
   "metadata": {},
   "outputs": [
    {
     "name": "stdout",
     "output_type": "stream",
     "text": [
      " * Serving Flask app '__main__'\n",
      " * Debug mode: on\n"
     ]
    },
    {
     "name": "stderr",
     "output_type": "stream",
     "text": [
      "WARNING: This is a development server. Do not use it in a production deployment. Use a production WSGI server instead.\n",
      " * Running on http://127.0.0.1:5000\n",
      "Press CTRL+C to quit\n",
      " * Restarting with watchdog (windowsapi)\n"
     ]
    },
    {
     "ename": "SystemExit",
     "evalue": "1",
     "output_type": "error",
     "traceback": [
      "An exception has occurred, use %tb to see the full traceback.\n",
      "\u001b[1;31mSystemExit\u001b[0m\u001b[1;31m:\u001b[0m 1\n"
     ]
    },
    {
     "name": "stderr",
     "output_type": "stream",
     "text": [
      "C:\\Users\\admin\\anaconda3\\Lib\\site-packages\\IPython\\core\\interactiveshell.py:3561: UserWarning: To exit: use 'exit', 'quit', or Ctrl-D.\n",
      "  warn(\"To exit: use 'exit', 'quit', or Ctrl-D.\", stacklevel=1)\n"
     ]
    }
   ],
   "source": [
    "############################\n",
    "######## IMPORTS ##########\n",
    "##########################\n",
    "from flask import Flask, request, jsonify\n",
    "import joblib\n",
    "import pandas as pd\n",
    "\n",
    "# Create Flask App\n",
    "app = Flask(__name__)\n",
    "\n",
    "\n",
    "# Create API routing call\n",
    "@app.route('/predict', methods=['POST'])\n",
    "def predict():\n",
    "    \n",
    "    # Get JSON Request\n",
    "    feat_data = request.json\n",
    "    # Convert JSON request to Pandas DataFrame\n",
    "    df = pd.DataFrame(feat_data)\n",
    "    # Match Column Na,es\n",
    "    df = df.reindex(columns=col_names)\n",
    "    # Get prediction\n",
    "    prediction = list(model.predict(df))\n",
    "    # Return JSON version of Prediction\n",
    "    return jsonify({'prediction': str(prediction)})\n",
    "\n",
    "        \n",
    "\n",
    "if __name__ == '__main__':\n",
    "\n",
    "    # LOADS MODEL AND FEATURE COLUMNS\n",
    "    model = joblib.load(\"final_model.pkl\") \n",
    "    col_names = joblib.load(\"column_names.pkl\") \n",
    "\n",
    "    app.run(debug=True)"
   ]
  },
  {
   "cell_type": "markdown",
   "metadata": {},
   "source": [
    "# JSON Post Request Using Postman\n",
    "After writing \"pyhton file_name\" on your cmd, see \"Running on http://127.0.0.1:5000\".\n",
    "Then,...\n",
    "\n",
    "1. POST to: http://127.0.0.1:5000/predict\n",
    "2. Select Body\n",
    "3. Select Raw\n",
    "4. Select JSON(application/json)\n",
    "5. Supply JSON for Features:\n",
    "    [{\"TV\":230.1,\"radio\":37.8,\"newspaper\":69.2}]\n"
   ]
  },
  {
   "cell_type": "code",
   "execution_count": null,
   "metadata": {},
   "outputs": [],
   "source": []
  }
 ],
 "metadata": {
  "kernelspec": {
   "display_name": "Python 3 (ipykernel)",
   "language": "python",
   "name": "python3"
  },
  "language_info": {
   "codemirror_mode": {
    "name": "ipython",
    "version": 3
   },
   "file_extension": ".py",
   "mimetype": "text/x-python",
   "name": "python",
   "nbconvert_exporter": "python",
   "pygments_lexer": "ipython3",
   "version": "3.11.7"
  }
 },
 "nbformat": 4,
 "nbformat_minor": 4
}
