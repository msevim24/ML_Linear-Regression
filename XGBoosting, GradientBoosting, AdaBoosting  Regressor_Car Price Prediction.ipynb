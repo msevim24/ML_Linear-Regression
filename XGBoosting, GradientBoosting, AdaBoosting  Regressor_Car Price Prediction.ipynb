{
 "cells": [
  {
   "cell_type": "markdown",
   "id": "developing-assignment",
   "metadata": {},
   "source": [
    "# AdaBoosting, Gradientboosting, XGBoosting Regressor"
   ]
  },
  {
   "cell_type": "markdown",
   "id": "1bd19f15",
   "metadata": {},
   "source": [
    "### Introduction"
   ]
  },
  {
   "cell_type": "markdown",
   "id": "88431058",
   "metadata": {},
   "source": [
    "In my previous work, I applied Random Forest and Decision Trees models on the same dataset. Now, I will use Boosting models to predict car prices. In the previous work, compared to Decision Trees, the Random Forest model provided better test scores with 0.973 R2 and 0.851 RMSE. In this project, among Boosting models I received the best scores in the XGBoost model after using GridSearchCV: 0.973 R2 and 0.847 RMSE test scores. So, the scores in Random Forest and XGBoost models are very close in the car dataset."
   ]
  },
  {
   "cell_type": "code",
   "execution_count": 1,
   "id": "threaded-frank",
   "metadata": {},
   "outputs": [],
   "source": [
    "import pandas as pd\n",
    "import numpy as np\n",
    "import matplotlib.pyplot as plt\n",
    "import seaborn as sns\n",
    "plt.rcParams[\"figure.figsize\"] = (9,5)\n",
    "import warnings\n",
    "warnings.filterwarnings('ignore')\n",
    "pd.set_option('display.max_rows', 1000)\n",
    "pd.set_option('display.max_columns', 1000)\n",
    "pd.set_option('display.width', 1000)"
   ]
  },
  {
   "cell_type": "code",
   "execution_count": 2,
   "id": "resident-berkeley",
   "metadata": {},
   "outputs": [
    {
     "data": {
      "text/html": [
       "<div>\n",
       "<style scoped>\n",
       "    .dataframe tbody tr th:only-of-type {\n",
       "        vertical-align: middle;\n",
       "    }\n",
       "\n",
       "    .dataframe tbody tr th {\n",
       "        vertical-align: top;\n",
       "    }\n",
       "\n",
       "    .dataframe thead th {\n",
       "        text-align: right;\n",
       "    }\n",
       "</style>\n",
       "<table border=\"1\" class=\"dataframe\">\n",
       "  <thead>\n",
       "    <tr style=\"text-align: right;\">\n",
       "      <th></th>\n",
       "      <th>Car_Name</th>\n",
       "      <th>Year</th>\n",
       "      <th>Selling_Price</th>\n",
       "      <th>Present_Price</th>\n",
       "      <th>Kms_Driven</th>\n",
       "      <th>Fuel_Type</th>\n",
       "      <th>Seller_Type</th>\n",
       "      <th>Transmission</th>\n",
       "      <th>Owner</th>\n",
       "    </tr>\n",
       "  </thead>\n",
       "  <tbody>\n",
       "    <tr>\n",
       "      <th>0</th>\n",
       "      <td>ritz</td>\n",
       "      <td>2014</td>\n",
       "      <td>3.35</td>\n",
       "      <td>5.59</td>\n",
       "      <td>27000</td>\n",
       "      <td>Petrol</td>\n",
       "      <td>Dealer</td>\n",
       "      <td>Manual</td>\n",
       "      <td>0</td>\n",
       "    </tr>\n",
       "    <tr>\n",
       "      <th>1</th>\n",
       "      <td>sx4</td>\n",
       "      <td>2013</td>\n",
       "      <td>4.75</td>\n",
       "      <td>9.54</td>\n",
       "      <td>43000</td>\n",
       "      <td>Diesel</td>\n",
       "      <td>Dealer</td>\n",
       "      <td>Manual</td>\n",
       "      <td>0</td>\n",
       "    </tr>\n",
       "    <tr>\n",
       "      <th>2</th>\n",
       "      <td>ciaz</td>\n",
       "      <td>2017</td>\n",
       "      <td>7.25</td>\n",
       "      <td>9.85</td>\n",
       "      <td>6900</td>\n",
       "      <td>Petrol</td>\n",
       "      <td>Dealer</td>\n",
       "      <td>Manual</td>\n",
       "      <td>0</td>\n",
       "    </tr>\n",
       "    <tr>\n",
       "      <th>3</th>\n",
       "      <td>wagon r</td>\n",
       "      <td>2011</td>\n",
       "      <td>2.85</td>\n",
       "      <td>4.15</td>\n",
       "      <td>5200</td>\n",
       "      <td>Petrol</td>\n",
       "      <td>Dealer</td>\n",
       "      <td>Manual</td>\n",
       "      <td>0</td>\n",
       "    </tr>\n",
       "    <tr>\n",
       "      <th>4</th>\n",
       "      <td>swift</td>\n",
       "      <td>2014</td>\n",
       "      <td>4.60</td>\n",
       "      <td>6.87</td>\n",
       "      <td>42450</td>\n",
       "      <td>Diesel</td>\n",
       "      <td>Dealer</td>\n",
       "      <td>Manual</td>\n",
       "      <td>0</td>\n",
       "    </tr>\n",
       "  </tbody>\n",
       "</table>\n",
       "</div>"
      ],
      "text/plain": [
       "  Car_Name  Year  Selling_Price  Present_Price  Kms_Driven Fuel_Type Seller_Type Transmission  Owner\n",
       "0     ritz  2014           3.35           5.59       27000    Petrol      Dealer       Manual      0\n",
       "1      sx4  2013           4.75           9.54       43000    Diesel      Dealer       Manual      0\n",
       "2     ciaz  2017           7.25           9.85        6900    Petrol      Dealer       Manual      0\n",
       "3  wagon r  2011           2.85           4.15        5200    Petrol      Dealer       Manual      0\n",
       "4    swift  2014           4.60           6.87       42450    Diesel      Dealer       Manual      0"
      ]
     },
     "execution_count": 2,
     "metadata": {},
     "output_type": "execute_result"
    }
   ],
   "source": [
    "df=pd.read_csv(\"car_dataset.csv\")\n",
    "df.head()"
   ]
  },
  {
   "cell_type": "code",
   "execution_count": 3,
   "id": "improved-destruction",
   "metadata": {},
   "outputs": [
    {
     "data": {
      "text/plain": [
       "(301, 9)"
      ]
     },
     "execution_count": 3,
     "metadata": {},
     "output_type": "execute_result"
    }
   ],
   "source": [
    "df.shape"
   ]
  },
  {
   "cell_type": "code",
   "execution_count": 4,
   "id": "available-berkeley",
   "metadata": {},
   "outputs": [
    {
     "name": "stdout",
     "output_type": "stream",
     "text": [
      "<class 'pandas.core.frame.DataFrame'>\n",
      "RangeIndex: 301 entries, 0 to 300\n",
      "Data columns (total 9 columns):\n",
      " #   Column         Non-Null Count  Dtype  \n",
      "---  ------         --------------  -----  \n",
      " 0   Car_Name       301 non-null    object \n",
      " 1   Year           301 non-null    int64  \n",
      " 2   Selling_Price  301 non-null    float64\n",
      " 3   Present_Price  301 non-null    float64\n",
      " 4   Kms_Driven     301 non-null    int64  \n",
      " 5   Fuel_Type      301 non-null    object \n",
      " 6   Seller_Type    301 non-null    object \n",
      " 7   Transmission   301 non-null    object \n",
      " 8   Owner          301 non-null    int64  \n",
      "dtypes: float64(2), int64(3), object(4)\n",
      "memory usage: 21.3+ KB\n"
     ]
    }
   ],
   "source": [
    "df.info()"
   ]
  },
  {
   "cell_type": "code",
   "execution_count": 5,
   "id": "extended-maximum",
   "metadata": {},
   "outputs": [
    {
     "data": {
      "text/plain": [
       "Car_Name         False\n",
       "Year             False\n",
       "Selling_Price    False\n",
       "Present_Price    False\n",
       "Kms_Driven       False\n",
       "Fuel_Type        False\n",
       "Seller_Type      False\n",
       "Transmission     False\n",
       "Owner            False\n",
       "dtype: bool"
      ]
     },
     "execution_count": 5,
     "metadata": {},
     "output_type": "execute_result"
    }
   ],
   "source": [
    "df.isnull().any()"
   ]
  },
  {
   "cell_type": "code",
   "execution_count": 6,
   "id": "iraqi-invitation",
   "metadata": {},
   "outputs": [
    {
     "data": {
      "text/html": [
       "<div>\n",
       "<style scoped>\n",
       "    .dataframe tbody tr th:only-of-type {\n",
       "        vertical-align: middle;\n",
       "    }\n",
       "\n",
       "    .dataframe tbody tr th {\n",
       "        vertical-align: top;\n",
       "    }\n",
       "\n",
       "    .dataframe thead th {\n",
       "        text-align: right;\n",
       "    }\n",
       "</style>\n",
       "<table border=\"1\" class=\"dataframe\">\n",
       "  <thead>\n",
       "    <tr style=\"text-align: right;\">\n",
       "      <th></th>\n",
       "      <th>count</th>\n",
       "      <th>mean</th>\n",
       "      <th>std</th>\n",
       "      <th>min</th>\n",
       "      <th>25%</th>\n",
       "      <th>50%</th>\n",
       "      <th>75%</th>\n",
       "      <th>max</th>\n",
       "    </tr>\n",
       "  </thead>\n",
       "  <tbody>\n",
       "    <tr>\n",
       "      <th>Year</th>\n",
       "      <td>301.0</td>\n",
       "      <td>2013.627907</td>\n",
       "      <td>2.891554</td>\n",
       "      <td>2003.00</td>\n",
       "      <td>2012.0</td>\n",
       "      <td>2014.0</td>\n",
       "      <td>2016.0</td>\n",
       "      <td>2018.0</td>\n",
       "    </tr>\n",
       "    <tr>\n",
       "      <th>Selling_Price</th>\n",
       "      <td>301.0</td>\n",
       "      <td>4.661296</td>\n",
       "      <td>5.082812</td>\n",
       "      <td>0.10</td>\n",
       "      <td>0.9</td>\n",
       "      <td>3.6</td>\n",
       "      <td>6.0</td>\n",
       "      <td>35.0</td>\n",
       "    </tr>\n",
       "    <tr>\n",
       "      <th>Present_Price</th>\n",
       "      <td>301.0</td>\n",
       "      <td>7.628472</td>\n",
       "      <td>8.644115</td>\n",
       "      <td>0.32</td>\n",
       "      <td>1.2</td>\n",
       "      <td>6.4</td>\n",
       "      <td>9.9</td>\n",
       "      <td>92.6</td>\n",
       "    </tr>\n",
       "    <tr>\n",
       "      <th>Kms_Driven</th>\n",
       "      <td>301.0</td>\n",
       "      <td>36947.205980</td>\n",
       "      <td>38886.883882</td>\n",
       "      <td>500.00</td>\n",
       "      <td>15000.0</td>\n",
       "      <td>32000.0</td>\n",
       "      <td>48767.0</td>\n",
       "      <td>500000.0</td>\n",
       "    </tr>\n",
       "    <tr>\n",
       "      <th>Owner</th>\n",
       "      <td>301.0</td>\n",
       "      <td>0.043189</td>\n",
       "      <td>0.247915</td>\n",
       "      <td>0.00</td>\n",
       "      <td>0.0</td>\n",
       "      <td>0.0</td>\n",
       "      <td>0.0</td>\n",
       "      <td>3.0</td>\n",
       "    </tr>\n",
       "  </tbody>\n",
       "</table>\n",
       "</div>"
      ],
      "text/plain": [
       "               count          mean           std      min      25%      50%      75%       max\n",
       "Year           301.0   2013.627907      2.891554  2003.00   2012.0   2014.0   2016.0    2018.0\n",
       "Selling_Price  301.0      4.661296      5.082812     0.10      0.9      3.6      6.0      35.0\n",
       "Present_Price  301.0      7.628472      8.644115     0.32      1.2      6.4      9.9      92.6\n",
       "Kms_Driven     301.0  36947.205980  38886.883882   500.00  15000.0  32000.0  48767.0  500000.0\n",
       "Owner          301.0      0.043189      0.247915     0.00      0.0      0.0      0.0       3.0"
      ]
     },
     "execution_count": 6,
     "metadata": {},
     "output_type": "execute_result"
    }
   ],
   "source": [
    "df.describe().T"
   ]
  },
  {
   "cell_type": "code",
   "execution_count": 7,
   "id": "similar-metabolism",
   "metadata": {},
   "outputs": [
    {
     "data": {
      "image/png": "[encoded data removed]",
      "text/plain": [
       "<Figure size 648x360 with 2 Axes>"
      ]
     },
     "metadata": {
      "needs_background": "light"
     },
     "output_type": "display_data"
    }
   ],
   "source": [
    "sns.heatmap(df.corr(), annot=True)\n",
    "plt.show()"
   ]
  },
  {
   "cell_type": "code",
   "execution_count": 8,
   "id": "civil-footwear",
   "metadata": {},
   "outputs": [
    {
     "data": {
      "text/html": [
       "<div>\n",
       "<style scoped>\n",
       "    .dataframe tbody tr th:only-of-type {\n",
       "        vertical-align: middle;\n",
       "    }\n",
       "\n",
       "    .dataframe tbody tr th {\n",
       "        vertical-align: top;\n",
       "    }\n",
       "\n",
       "    .dataframe thead th {\n",
       "        text-align: right;\n",
       "    }\n",
       "</style>\n",
       "<table border=\"1\" class=\"dataframe\">\n",
       "  <thead>\n",
       "    <tr style=\"text-align: right;\">\n",
       "      <th></th>\n",
       "      <th>Car_Name</th>\n",
       "      <th>Year</th>\n",
       "      <th>Selling_Price</th>\n",
       "      <th>Present_Price</th>\n",
       "      <th>Kms_Driven</th>\n",
       "      <th>Fuel_Type</th>\n",
       "      <th>Seller_Type</th>\n",
       "      <th>Transmission</th>\n",
       "      <th>Owner</th>\n",
       "    </tr>\n",
       "  </thead>\n",
       "  <tbody>\n",
       "    <tr>\n",
       "      <th>0</th>\n",
       "      <td>ritz</td>\n",
       "      <td>2014</td>\n",
       "      <td>3.35</td>\n",
       "      <td>5.59</td>\n",
       "      <td>27000</td>\n",
       "      <td>Petrol</td>\n",
       "      <td>Dealer</td>\n",
       "      <td>Manual</td>\n",
       "      <td>0</td>\n",
       "    </tr>\n",
       "    <tr>\n",
       "      <th>1</th>\n",
       "      <td>sx4</td>\n",
       "      <td>2013</td>\n",
       "      <td>4.75</td>\n",
       "      <td>9.54</td>\n",
       "      <td>43000</td>\n",
       "      <td>Diesel</td>\n",
       "      <td>Dealer</td>\n",
       "      <td>Manual</td>\n",
       "      <td>0</td>\n",
       "    </tr>\n",
       "    <tr>\n",
       "      <th>2</th>\n",
       "      <td>ciaz</td>\n",
       "      <td>2017</td>\n",
       "      <td>7.25</td>\n",
       "      <td>9.85</td>\n",
       "      <td>6900</td>\n",
       "      <td>Petrol</td>\n",
       "      <td>Dealer</td>\n",
       "      <td>Manual</td>\n",
       "      <td>0</td>\n",
       "    </tr>\n",
       "    <tr>\n",
       "      <th>3</th>\n",
       "      <td>wagon r</td>\n",
       "      <td>2011</td>\n",
       "      <td>2.85</td>\n",
       "      <td>4.15</td>\n",
       "      <td>5200</td>\n",
       "      <td>Petrol</td>\n",
       "      <td>Dealer</td>\n",
       "      <td>Manual</td>\n",
       "      <td>0</td>\n",
       "    </tr>\n",
       "    <tr>\n",
       "      <th>4</th>\n",
       "      <td>swift</td>\n",
       "      <td>2014</td>\n",
       "      <td>4.60</td>\n",
       "      <td>6.87</td>\n",
       "      <td>42450</td>\n",
       "      <td>Diesel</td>\n",
       "      <td>Dealer</td>\n",
       "      <td>Manual</td>\n",
       "      <td>0</td>\n",
       "    </tr>\n",
       "  </tbody>\n",
       "</table>\n",
       "</div>"
      ],
      "text/plain": [
       "  Car_Name  Year  Selling_Price  Present_Price  Kms_Driven Fuel_Type Seller_Type Transmission  Owner\n",
       "0     ritz  2014           3.35           5.59       27000    Petrol      Dealer       Manual      0\n",
       "1      sx4  2013           4.75           9.54       43000    Diesel      Dealer       Manual      0\n",
       "2     ciaz  2017           7.25           9.85        6900    Petrol      Dealer       Manual      0\n",
       "3  wagon r  2011           2.85           4.15        5200    Petrol      Dealer       Manual      0\n",
       "4    swift  2014           4.60           6.87       42450    Diesel      Dealer       Manual      0"
      ]
     },
     "execution_count": 8,
     "metadata": {},
     "output_type": "execute_result"
    }
   ],
   "source": [
    "df.head()"
   ]
  },
  {
   "cell_type": "code",
   "execution_count": 9,
   "id": "attached-university",
   "metadata": {},
   "outputs": [],
   "source": [
    "df[\"vehicle_age\"]=2022-df.Year"
   ]
  },
  {
   "cell_type": "code",
   "execution_count": 10,
   "id": "invisible-partnership",
   "metadata": {
    "scrolled": true
   },
   "outputs": [
    {
     "data": {
      "text/plain": [
       "city                         26\n",
       "corolla altis                16\n",
       "verna                        14\n",
       "fortuner                     11\n",
       "brio                         10\n",
       "ciaz                          9\n",
       "innova                        9\n",
       "i20                           9\n",
       "grand i10                     8\n",
       "jazz                          7\n",
       "amaze                         7\n",
       "Royal Enfield Classic 350     7\n",
       "ertiga                        6\n",
       "eon                           6\n",
       "sx4                           6\n",
       "alto k10                      5\n",
       "i10                           5\n",
       "swift                         5\n",
       "Bajaj Pulsar 150              4\n",
       "Royal Enfield Thunder 350     4\n",
       "ritz                          4\n",
       "wagon r                       4\n",
       "etios liva                    4\n",
       "dzire                         4\n",
       "xcent                         3\n",
       "etios cross                   3\n",
       "Royal Enfield Thunder 500     3\n",
       "TVS Apache RTR 160            3\n",
       "Yamaha FZ S V 2.0             3\n",
       "creta                         3\n",
       "Honda CB Hornet 160R          3\n",
       "etios g                       3\n",
       "Bajaj Avenger 220             3\n",
       "Bajaj Pulsar NS 200           3\n",
       "Bajaj Discover 125            2\n",
       "Bajaj Pulsar 220 F            2\n",
       "TVS Apache RTR 180            2\n",
       "Yamaha FZ  v 2.0              2\n",
       "Honda Activa 4G               2\n",
       "Hero Extreme                  2\n",
       "Honda CB twister              2\n",
       "Hero Splender iSmart          2\n",
       "Activa 3g                     2\n",
       "Hero Passion Pro              2\n",
       "Honda CB Shine                2\n",
       "Bajaj Avenger 220 dtsi        2\n",
       "Honda CBR 150                 2\n",
       "elantra                       2\n",
       "Royal Enfield Classic 500     2\n",
       "KTM RC200                     2\n",
       "Honda Karizma                 2\n",
       "Bajaj  ct 100                 1\n",
       "Hero  Ignitor Disc            1\n",
       "TVS Jupyter                   1\n",
       "Hero Honda Passion Pro        1\n",
       "Hero Splender Plus            1\n",
       "vitara brezza                 1\n",
       "Bajaj Discover 100            1\n",
       "Suzuki Access 125             1\n",
       "s cross                       1\n",
       "alto 800                      1\n",
       "baleno                        1\n",
       "TVS Wego                      1\n",
       "Hero  CBZ Xtreme              1\n",
       "Hero Glamour                  1\n",
       "ignis                         1\n",
       "Hero Super Splendor           1\n",
       "800                           1\n",
       "Hero Hunk                     1\n",
       "Honda Activa 125              1\n",
       "corolla                       1\n",
       "Hero Honda CBZ extreme        1\n",
       "Yamaha FZ 16                  1\n",
       "camry                         1\n",
       "land cruiser                  1\n",
       "UM Renegade Mojave            1\n",
       "Bajaj Dominar 400             1\n",
       "KTM RC390                     1\n",
       "Hyosung GT250R                1\n",
       "KTM 390 Duke                  1\n",
       "Mahindra Mojo XT300           1\n",
       "Bajaj Pulsar RS200            1\n",
       "Royal Enfield Bullet 350      1\n",
       "Bajaj Avenger 150             1\n",
       "Bajaj Avenger 150 street      1\n",
       "Honda CB Unicorn              1\n",
       "omni                          1\n",
       "Bajaj Pulsar  NS 200          1\n",
       "Hero Passion X pro            1\n",
       "Yamaha Fazer                  1\n",
       "TVS Sport                     1\n",
       "Honda Dream Yuga              1\n",
       "etios gd                      1\n",
       "Honda CB Trigger              1\n",
       "Yamaha FZ S                   1\n",
       "Bajaj Pulsar 135 LS           1\n",
       "Activa 4g                     1\n",
       "Bajaj Avenger Street 220      1\n",
       "Name: Car_Name, dtype: int64"
      ]
     },
     "execution_count": 10,
     "metadata": {},
     "output_type": "execute_result"
    }
   ],
   "source": [
    "df.Car_Name.value_counts()"
   ]
  },
  {
   "cell_type": "code",
   "execution_count": 11,
   "id": "private-retirement",
   "metadata": {},
   "outputs": [],
   "source": [
    "df.drop(columns=[\"Year\"], inplace=True)"
   ]
  },
  {
   "cell_type": "code",
   "execution_count": 12,
   "id": "collective-cleaners",
   "metadata": {},
   "outputs": [],
   "source": [
    "# We will use Encoder instead of get_dummies.\n",
    "#df=pd.get_dummies(df, drop_first=True)"
   ]
  },
  {
   "cell_type": "code",
   "execution_count": 13,
   "id": "endless-attendance",
   "metadata": {},
   "outputs": [
    {
     "data": {
      "text/html": [
       "<div>\n",
       "<style scoped>\n",
       "    .dataframe tbody tr th:only-of-type {\n",
       "        vertical-align: middle;\n",
       "    }\n",
       "\n",
       "    .dataframe tbody tr th {\n",
       "        vertical-align: top;\n",
       "    }\n",
       "\n",
       "    .dataframe thead th {\n",
       "        text-align: right;\n",
       "    }\n",
       "</style>\n",
       "<table border=\"1\" class=\"dataframe\">\n",
       "  <thead>\n",
       "    <tr style=\"text-align: right;\">\n",
       "      <th></th>\n",
       "      <th>Car_Name</th>\n",
       "      <th>Selling_Price</th>\n",
       "      <th>Present_Price</th>\n",
       "      <th>Kms_Driven</th>\n",
       "      <th>Fuel_Type</th>\n",
       "      <th>Seller_Type</th>\n",
       "      <th>Transmission</th>\n",
       "      <th>Owner</th>\n",
       "      <th>vehicle_age</th>\n",
       "    </tr>\n",
       "  </thead>\n",
       "  <tbody>\n",
       "    <tr>\n",
       "      <th>0</th>\n",
       "      <td>ritz</td>\n",
       "      <td>3.35</td>\n",
       "      <td>5.59</td>\n",
       "      <td>27000</td>\n",
       "      <td>Petrol</td>\n",
       "      <td>Dealer</td>\n",
       "      <td>Manual</td>\n",
       "      <td>0</td>\n",
       "      <td>8</td>\n",
       "    </tr>\n",
       "    <tr>\n",
       "      <th>1</th>\n",
       "      <td>sx4</td>\n",
       "      <td>4.75</td>\n",
       "      <td>9.54</td>\n",
       "      <td>43000</td>\n",
       "      <td>Diesel</td>\n",
       "      <td>Dealer</td>\n",
       "      <td>Manual</td>\n",
       "      <td>0</td>\n",
       "      <td>9</td>\n",
       "    </tr>\n",
       "    <tr>\n",
       "      <th>2</th>\n",
       "      <td>ciaz</td>\n",
       "      <td>7.25</td>\n",
       "      <td>9.85</td>\n",
       "      <td>6900</td>\n",
       "      <td>Petrol</td>\n",
       "      <td>Dealer</td>\n",
       "      <td>Manual</td>\n",
       "      <td>0</td>\n",
       "      <td>5</td>\n",
       "    </tr>\n",
       "    <tr>\n",
       "      <th>3</th>\n",
       "      <td>wagon r</td>\n",
       "      <td>2.85</td>\n",
       "      <td>4.15</td>\n",
       "      <td>5200</td>\n",
       "      <td>Petrol</td>\n",
       "      <td>Dealer</td>\n",
       "      <td>Manual</td>\n",
       "      <td>0</td>\n",
       "      <td>11</td>\n",
       "    </tr>\n",
       "    <tr>\n",
       "      <th>4</th>\n",
       "      <td>swift</td>\n",
       "      <td>4.60</td>\n",
       "      <td>6.87</td>\n",
       "      <td>42450</td>\n",
       "      <td>Diesel</td>\n",
       "      <td>Dealer</td>\n",
       "      <td>Manual</td>\n",
       "      <td>0</td>\n",
       "      <td>8</td>\n",
       "    </tr>\n",
       "  </tbody>\n",
       "</table>\n",
       "</div>"
      ],
      "text/plain": [
       "  Car_Name  Selling_Price  Present_Price  Kms_Driven Fuel_Type Seller_Type Transmission  Owner  vehicle_age\n",
       "0     ritz           3.35           5.59       27000    Petrol      Dealer       Manual      0            8\n",
       "1      sx4           4.75           9.54       43000    Diesel      Dealer       Manual      0            9\n",
       "2     ciaz           7.25           9.85        6900    Petrol      Dealer       Manual      0            5\n",
       "3  wagon r           2.85           4.15        5200    Petrol      Dealer       Manual      0           11\n",
       "4    swift           4.60           6.87       42450    Diesel      Dealer       Manual      0            8"
      ]
     },
     "execution_count": 13,
     "metadata": {},
     "output_type": "execute_result"
    }
   ],
   "source": [
    "df.head()"
   ]
  },
  {
   "cell_type": "markdown",
   "id": "swiss-respondent",
   "metadata": {},
   "source": [
    "### Train | Test split"
   ]
  },
  {
   "cell_type": "code",
   "execution_count": 14,
   "id": "c31aae4b",
   "metadata": {},
   "outputs": [],
   "source": [
    "from sklearn.preprocessing import OrdinalEncoder"
   ]
  },
  {
   "cell_type": "code",
   "execution_count": 15,
   "id": "every-turtle",
   "metadata": {},
   "outputs": [],
   "source": [
    "X=df.drop(\"Selling_Price\", axis=1)\n",
    "y=df.Selling_Price"
   ]
  },
  {
   "cell_type": "code",
   "execution_count": 16,
   "id": "b5097ca1",
   "metadata": {},
   "outputs": [
    {
     "data": {
      "text/plain": [
       "Index(['Car_Name', 'Fuel_Type', 'Seller_Type', 'Transmission'], dtype='object')"
      ]
     },
     "execution_count": 16,
     "metadata": {},
     "output_type": "execute_result"
    }
   ],
   "source": [
    "cat = X.select_dtypes(\"object\").columns\n",
    "cat"
   ]
  },
  {
   "cell_type": "code",
   "execution_count": 17,
   "id": "cfc9f047",
   "metadata": {},
   "outputs": [
    {
     "data": {
      "text/html": [
       "<div>\n",
       "<style scoped>\n",
       "    .dataframe tbody tr th:only-of-type {\n",
       "        vertical-align: middle;\n",
       "    }\n",
       "\n",
       "    .dataframe tbody tr th {\n",
       "        vertical-align: top;\n",
       "    }\n",
       "\n",
       "    .dataframe thead th {\n",
       "        text-align: right;\n",
       "    }\n",
       "</style>\n",
       "<table border=\"1\" class=\"dataframe\">\n",
       "  <thead>\n",
       "    <tr style=\"text-align: right;\">\n",
       "      <th></th>\n",
       "      <th>Car_Name</th>\n",
       "      <th>Present_Price</th>\n",
       "      <th>Kms_Driven</th>\n",
       "      <th>Fuel_Type</th>\n",
       "      <th>Seller_Type</th>\n",
       "      <th>Transmission</th>\n",
       "      <th>Owner</th>\n",
       "      <th>vehicle_age</th>\n",
       "    </tr>\n",
       "  </thead>\n",
       "  <tbody>\n",
       "    <tr>\n",
       "      <th>0</th>\n",
       "      <td>90.0</td>\n",
       "      <td>5.59</td>\n",
       "      <td>27000</td>\n",
       "      <td>2.0</td>\n",
       "      <td>0.0</td>\n",
       "      <td>1.0</td>\n",
       "      <td>0</td>\n",
       "      <td>8</td>\n",
       "    </tr>\n",
       "    <tr>\n",
       "      <th>1</th>\n",
       "      <td>93.0</td>\n",
       "      <td>9.54</td>\n",
       "      <td>43000</td>\n",
       "      <td>1.0</td>\n",
       "      <td>0.0</td>\n",
       "      <td>1.0</td>\n",
       "      <td>0</td>\n",
       "      <td>9</td>\n",
       "    </tr>\n",
       "    <tr>\n",
       "      <th>2</th>\n",
       "      <td>68.0</td>\n",
       "      <td>9.85</td>\n",
       "      <td>6900</td>\n",
       "      <td>2.0</td>\n",
       "      <td>0.0</td>\n",
       "      <td>1.0</td>\n",
       "      <td>0</td>\n",
       "      <td>5</td>\n",
       "    </tr>\n",
       "    <tr>\n",
       "      <th>3</th>\n",
       "      <td>96.0</td>\n",
       "      <td>4.15</td>\n",
       "      <td>5200</td>\n",
       "      <td>2.0</td>\n",
       "      <td>0.0</td>\n",
       "      <td>1.0</td>\n",
       "      <td>0</td>\n",
       "      <td>11</td>\n",
       "    </tr>\n",
       "    <tr>\n",
       "      <th>4</th>\n",
       "      <td>92.0</td>\n",
       "      <td>6.87</td>\n",
       "      <td>42450</td>\n",
       "      <td>1.0</td>\n",
       "      <td>0.0</td>\n",
       "      <td>1.0</td>\n",
       "      <td>0</td>\n",
       "      <td>8</td>\n",
       "    </tr>\n",
       "  </tbody>\n",
       "</table>\n",
       "</div>"
      ],
      "text/plain": [
       "   Car_Name  Present_Price  Kms_Driven  Fuel_Type  Seller_Type  Transmission  Owner  vehicle_age\n",
       "0      90.0           5.59       27000        2.0          0.0           1.0      0            8\n",
       "1      93.0           9.54       43000        1.0          0.0           1.0      0            9\n",
       "2      68.0           9.85        6900        2.0          0.0           1.0      0            5\n",
       "3      96.0           4.15        5200        2.0          0.0           1.0      0           11\n",
       "4      92.0           6.87       42450        1.0          0.0           1.0      0            8"
      ]
     },
     "execution_count": 17,
     "metadata": {},
     "output_type": "execute_result"
    }
   ],
   "source": [
    "enc = OrdinalEncoder()\n",
    "X[cat] = enc.fit_transform(X[cat])\n",
    "X.head()"
   ]
  },
  {
   "cell_type": "code",
   "execution_count": 18,
   "id": "worth-compilation",
   "metadata": {},
   "outputs": [
    {
     "name": "stdout",
     "output_type": "stream",
     "text": [
      "Train features shape :  (240, 8)\n",
      "Train target shape   :  (240,)\n",
      "Test features shape  :  (61, 8)\n",
      "Test target shape    :  (61,)\n"
     ]
    }
   ],
   "source": [
    "from sklearn.model_selection import train_test_split\n",
    "X_train,X_test,y_train,y_test=train_test_split(X,y,test_size=0.2, random_state=5)\n",
    "\n",
    "print(\"Train features shape : \", X_train.shape)\n",
    "print(\"Train target shape   : \", y_train.shape)\n",
    "print(\"Test features shape  : \", X_test.shape)\n",
    "print(\"Test target shape    : \", y_test.shape)\n"
   ]
  },
  {
   "cell_type": "markdown",
   "id": "optional-filing",
   "metadata": {},
   "source": [
    "### Modeling"
   ]
  },
  {
   "cell_type": "code",
   "execution_count": 19,
   "id": "legislative-office",
   "metadata": {},
   "outputs": [],
   "source": [
    "from sklearn.metrics import r2_score, mean_absolute_error, mean_squared_error"
   ]
  },
  {
   "cell_type": "code",
   "execution_count": 20,
   "id": "roman-substitute",
   "metadata": {},
   "outputs": [],
   "source": [
    "def train_val(model, X_train, y_train, X_test, y_test):\n",
    "    \n",
    "    y_pred = model.predict(X_test)\n",
    "    y_train_pred = model.predict(X_train)\n",
    "    \n",
    "    scores = {\"train\": {\"R2\" : r2_score(y_train, y_train_pred),\n",
    "    \"mae\" : mean_absolute_error(y_train, y_train_pred),\n",
    "    \"mse\" : mean_squared_error(y_train, y_train_pred),                          \n",
    "    \"rmse\" : np.sqrt(mean_squared_error(y_train, y_train_pred))},\n",
    "    \n",
    "    \"test\": {\"R2\" : r2_score(y_test, y_pred),\n",
    "    \"mae\" : mean_absolute_error(y_test, y_pred),\n",
    "    \"mse\" : mean_squared_error(y_test, y_pred),\n",
    "    \"rmse\" : np.sqrt(mean_squared_error(y_test, y_pred))}}\n",
    "    \n",
    "    return pd.DataFrame(scores)"
   ]
  },
  {
   "cell_type": "markdown",
   "id": "double-pleasure",
   "metadata": {},
   "source": [
    "# 1. AdaBoost (Adaptive Boosting) Regressor"
   ]
  },
  {
   "cell_type": "code",
   "execution_count": 21,
   "id": "southwest-premises",
   "metadata": {},
   "outputs": [],
   "source": [
    "from sklearn.ensemble import AdaBoostRegressor"
   ]
  },
  {
   "cell_type": "code",
   "execution_count": 22,
   "id": "muslim-austin",
   "metadata": {},
   "outputs": [],
   "source": [
    "#base_estimator=DecisionTreeRegressor(max_depth=3); n_estimator default 50\n",
    "ada_model = AdaBoostRegressor(random_state=101, n_estimators=50)"
   ]
  },
  {
   "cell_type": "code",
   "execution_count": 23,
   "id": "turkish-poverty",
   "metadata": {},
   "outputs": [
    {
     "data": {
      "text/plain": [
       "AdaBoostRegressor(random_state=101)"
      ]
     },
     "execution_count": 23,
     "metadata": {},
     "output_type": "execute_result"
    }
   ],
   "source": [
    "ada_model.fit(X_train, y_train)"
   ]
  },
  {
   "cell_type": "code",
   "execution_count": 24,
   "id": "aware-spare",
   "metadata": {},
   "outputs": [
    {
     "data": {
      "text/html": [
       "<div>\n",
       "<style scoped>\n",
       "    .dataframe tbody tr th:only-of-type {\n",
       "        vertical-align: middle;\n",
       "    }\n",
       "\n",
       "    .dataframe tbody tr th {\n",
       "        vertical-align: top;\n",
       "    }\n",
       "\n",
       "    .dataframe thead th {\n",
       "        text-align: right;\n",
       "    }\n",
       "</style>\n",
       "<table border=\"1\" class=\"dataframe\">\n",
       "  <thead>\n",
       "    <tr style=\"text-align: right;\">\n",
       "      <th></th>\n",
       "      <th>train</th>\n",
       "      <th>test</th>\n",
       "    </tr>\n",
       "  </thead>\n",
       "  <tbody>\n",
       "    <tr>\n",
       "      <th>R2</th>\n",
       "      <td>0.967360</td>\n",
       "      <td>0.938860</td>\n",
       "    </tr>\n",
       "    <tr>\n",
       "      <th>mae</th>\n",
       "      <td>0.730070</td>\n",
       "      <td>0.920171</td>\n",
       "    </tr>\n",
       "    <tr>\n",
       "      <th>mse</th>\n",
       "      <td>0.830186</td>\n",
       "      <td>1.641058</td>\n",
       "    </tr>\n",
       "    <tr>\n",
       "      <th>rmse</th>\n",
       "      <td>0.911145</td>\n",
       "      <td>1.281038</td>\n",
       "    </tr>\n",
       "  </tbody>\n",
       "</table>\n",
       "</div>"
      ],
      "text/plain": [
       "         train      test\n",
       "R2    0.967360  0.938860\n",
       "mae   0.730070  0.920171\n",
       "mse   0.830186  1.641058\n",
       "rmse  0.911145  1.281038"
      ]
     },
     "execution_count": 24,
     "metadata": {},
     "output_type": "execute_result"
    }
   ],
   "source": [
    "train_val(ada_model, X_train, y_train, X_test, y_test)"
   ]
  },
  {
   "cell_type": "code",
   "execution_count": 25,
   "id": "negative-virtue",
   "metadata": {
    "scrolled": true
   },
   "outputs": [
    {
     "data": {
      "text/plain": [
       "test_r2                             0.835971\n",
       "test_neg_mean_absolute_error       -1.116024\n",
       "test_neg_mean_squared_error        -4.898089\n",
       "test_neg_root_mean_squared_error   -1.892615\n",
       "dtype: float64"
      ]
     },
     "execution_count": 25,
     "metadata": {},
     "output_type": "execute_result"
    }
   ],
   "source": [
    "from sklearn.model_selection import cross_validate, cross_val_score\n",
    "model = AdaBoostRegressor(random_state=101, n_estimators=50)\n",
    "scores = cross_validate(model, X_train, y_train, scoring=['r2', \n",
    "            'neg_mean_absolute_error','neg_mean_squared_error','neg_root_mean_squared_error'], cv =10)\n",
    "pd.DataFrame(scores)\n",
    "pd.DataFrame(scores).mean()[2:]"
   ]
  },
  {
   "cell_type": "code",
   "execution_count": 26,
   "id": "fd874c13",
   "metadata": {},
   "outputs": [
    {
     "data": {
      "text/plain": [
       "array([ 5.93635135,  5.93635135,  4.81666667,  5.50203704,  3.14486486,\n",
       "       10.00131313,  9.61186667,  1.08078947, 15.33333333,  5.25494253,\n",
       "        5.93635135,  6.62080645,  4.25894737,  5.44085714,  1.08078947,\n",
       "        3.48181818,  6.02      ,  1.08078947,  6.02      ,  1.08078947,\n",
       "        5.44085714, 21.74923077, 19.6584127 ,  1.12391304,  3.746875  ,\n",
       "        5.31938272,  5.78793103,  6.62745098,  5.78793103,  5.31938272,\n",
       "        5.25494253,  9.74408602,  5.25494253,  1.08078947,  1.08078947,\n",
       "        5.78793103,  6.35779661,  5.31938272,  1.12391304,  1.56258065,\n",
       "        1.08078947,  5.29588235, 15.91716667,  1.08078947,  1.12391304,\n",
       "        5.50203704,  1.08078947,  6.6330303 ,  3.48181818,  5.25494253,\n",
       "        4.81666667, 21.74923077,  4.25894737,  1.12391304,  1.08078947,\n",
       "        1.08078947,  3.14486486,  1.08078947,  1.08078947,  1.08078947,\n",
       "        1.08078947])"
      ]
     },
     "execution_count": 26,
     "metadata": {},
     "output_type": "execute_result"
    }
   ],
   "source": [
    "y_pred_ada = ada_model.predict(X_test)\n",
    "y_pred_ada"
   ]
  },
  {
   "cell_type": "code",
   "execution_count": 27,
   "id": "nutritional-capability",
   "metadata": {},
   "outputs": [],
   "source": [
    "from sklearn.tree import plot_tree"
   ]
  },
  {
   "cell_type": "code",
   "execution_count": 28,
   "id": "moral-judge",
   "metadata": {},
   "outputs": [
    {
     "data": {
      "image/png": "[encoded data removed]",
      "text/plain": [
       "<Figure size 1200x800 with 1 Axes>"
      ]
     },
     "metadata": {
      "needs_background": "light"
     },
     "output_type": "display_data"
    }
   ],
   "source": [
    "model = AdaBoostRegressor(random_state=101, n_estimators=3) \n",
    "model.fit(X_train, y_train)\n",
    "y_pred = model.predict(X_test)\n",
    "\n",
    "features = list(X.columns)\n",
    "plt.figure(figsize=(12,8),dpi=100)\n",
    "plot_tree(model.estimators_[0], filled=True, feature_names=X.columns, fontsize=10);"
   ]
  },
  {
   "cell_type": "code",
   "execution_count": 29,
   "id": "standard-relay",
   "metadata": {},
   "outputs": [
    {
     "data": {
      "image/png": "[encoded data removed]",
      "text/plain": [
       "<Figure size 1200x800 with 1 Axes>"
      ]
     },
     "metadata": {
      "needs_background": "light"
     },
     "output_type": "display_data"
    }
   ],
   "source": [
    "plt.figure(figsize=(12,8),dpi=100)\n",
    "plot_tree(model.estimators_[1], filled=True, feature_names=X.columns, fontsize=10);"
   ]
  },
  {
   "cell_type": "code",
   "execution_count": 30,
   "id": "dried-evanescence",
   "metadata": {},
   "outputs": [
    {
     "data": {
      "image/png": "[encoded data removed]",
      "text/plain": [
       "<Figure size 1200x800 with 1 Axes>"
      ]
     },
     "metadata": {
      "needs_background": "light"
     },
     "output_type": "display_data"
    }
   ],
   "source": [
    "plt.figure(figsize=(12,8),dpi=100)\n",
    "plot_tree(model.estimators_[2], filled=True, feature_names=X.columns, fontsize=10);"
   ]
  },
  {
   "cell_type": "code",
   "execution_count": 31,
   "id": "continuous-position",
   "metadata": {},
   "outputs": [
    {
     "data": {
      "text/plain": [
       "array([ 5.44085714,  5.44085714,  4.12717391,  4.12717391,  4.12717391,\n",
       "        9.61034483,  9.61034483,  0.69298246, 15.25      ,  4.12717391,\n",
       "        5.44085714,  8.67478261,  4.12717391,  5.44085714,  0.69298246,\n",
       "        4.12717391,  5.44085714,  0.69298246,  5.44085714,  0.69298246,\n",
       "        5.44085714, 20.99333333, 20.99333333,  0.80633333,  3.48181818,\n",
       "        4.12717391,  4.76253165,  8.67478261,  4.76253165,  5.44085714,\n",
       "        4.12717391,  9.61034483,  4.12717391,  0.69298246,  0.69298246,\n",
       "        4.76253165,  8.67478261,  4.12717391,  0.80633333,  3.48181818,\n",
       "        0.69298246,  4.12717391,  9.61186667,  0.69298246,  0.80633333,\n",
       "        4.12717391,  0.69298246,  8.67478261,  4.12717391,  4.76253165,\n",
       "        4.12717391, 20.99333333,  4.28736842,  0.80633333,  0.69298246,\n",
       "        0.69298246,  3.48181818,  0.69298246,  0.69298246,  0.69298246,\n",
       "        0.69298246])"
      ]
     },
     "execution_count": 31,
     "metadata": {},
     "output_type": "execute_result"
    }
   ],
   "source": [
    "y_pred"
   ]
  },
  {
   "cell_type": "code",
   "execution_count": 32,
   "id": "structured-degree",
   "metadata": {},
   "outputs": [
    {
     "data": {
      "text/plain": [
       "array([ 9.25,  9.65,  3.65,  6.  ,  2.9 ,  8.25,  6.25,  0.6 , 14.9 ,\n",
       "        5.5 ,  5.5 ,  6.5 ,  3.45,  3.49,  0.45,  3.5 ,  7.05,  0.35,\n",
       "        6.95,  0.4 ,  3.8 , 23.  , 18.75,  1.  ,  1.95,  4.5 ,  4.5 ,\n",
       "        9.1 ,  5.8 ,  4.35,  5.25,  9.7 ,  5.4 ,  0.2 ,  0.38,  6.15,\n",
       "        7.75,  4.9 ,  1.05,  1.35,  0.75,  4.8 , 19.75,  0.17,  1.11,\n",
       "        4.75,  0.2 ,  8.35,  2.9 ,  4.5 ,  5.15, 20.75,  2.25,  1.1 ,\n",
       "        0.35,  0.15,  3.  ,  0.3 ,  0.2 ,  0.75,  0.45])"
      ]
     },
     "execution_count": 32,
     "metadata": {},
     "output_type": "execute_result"
    }
   ],
   "source": [
    "np.array(y_test)"
   ]
  },
  {
   "cell_type": "code",
   "execution_count": 33,
   "id": "fitted-bristol",
   "metadata": {},
   "outputs": [
    {
     "data": {
      "text/plain": [
       "Car_Name            81.00\n",
       "Present_Price       20.45\n",
       "Kms_Driven       59000.00\n",
       "Fuel_Type            1.00\n",
       "Seller_Type          0.00\n",
       "Transmission         1.00\n",
       "Owner                0.00\n",
       "vehicle_age         12.00\n",
       "Name: 67, dtype: float64"
      ]
     },
     "execution_count": 33,
     "metadata": {},
     "output_type": "execute_result"
    }
   ],
   "source": [
    "X_test.loc[67]"
   ]
  },
  {
   "cell_type": "markdown",
   "id": "sharing-psychiatry",
   "metadata": {},
   "source": [
    "## Gridsearch for AdaBoosting"
   ]
  },
  {
   "cell_type": "code",
   "execution_count": 34,
   "id": "alien-building",
   "metadata": {},
   "outputs": [],
   "source": [
    "from sklearn.model_selection import GridSearchCV"
   ]
  },
  {
   "cell_type": "code",
   "execution_count": 35,
   "id": "published-breeding",
   "metadata": {},
   "outputs": [],
   "source": [
    "param_grid = {\"n_estimators\":[50, 100, 200, 300, 500],\n",
    "              \"learning_rate\":[0.1, 0.5, 0.8, 1],\n",
    "              \"loss\": [\"linear\", \"square\"]\n",
    "            }"
   ]
  },
  {
   "cell_type": "code",
   "execution_count": 36,
   "id": "invisible-bandwidth",
   "metadata": {},
   "outputs": [],
   "source": [
    "model = AdaBoostRegressor(random_state=101)\n",
    "grid_model = GridSearchCV(estimator=model,\n",
    "                          param_grid=param_grid,\n",
    "                          scoring='neg_root_mean_squared_error',\n",
    "                          cv=10,\n",
    "                          n_jobs = -1)"
   ]
  },
  {
   "cell_type": "code",
   "execution_count": 37,
   "id": "neutral-coordination",
   "metadata": {},
   "outputs": [
    {
     "data": {
      "text/plain": [
       "GridSearchCV(cv=10, estimator=AdaBoostRegressor(random_state=101), n_jobs=-1,\n",
       "             param_grid={'learning_rate': [0.1, 0.5, 0.8, 1],\n",
       "                         'loss': ['linear', 'square'],\n",
       "                         'n_estimators': [50, 100, 200, 300, 500]},\n",
       "             scoring='neg_root_mean_squared_error')"
      ]
     },
     "execution_count": 37,
     "metadata": {},
     "output_type": "execute_result"
    }
   ],
   "source": [
    "grid_model.fit(X_train,y_train)"
   ]
  },
  {
   "cell_type": "code",
   "execution_count": 38,
   "id": "iraqi-george",
   "metadata": {},
   "outputs": [
    {
     "data": {
      "text/plain": [
       "{'learning_rate': 1, 'loss': 'square', 'n_estimators': 300}"
      ]
     },
     "execution_count": 38,
     "metadata": {},
     "output_type": "execute_result"
    }
   ],
   "source": [
    "grid_model.best_params_"
   ]
  },
  {
   "cell_type": "code",
   "execution_count": 39,
   "id": "laughing-payment",
   "metadata": {},
   "outputs": [
    {
     "data": {
      "text/plain": [
       "-1.7870767870408986"
      ]
     },
     "execution_count": 39,
     "metadata": {},
     "output_type": "execute_result"
    }
   ],
   "source": [
    "grid_model.best_score_"
   ]
  },
  {
   "cell_type": "code",
   "execution_count": 40,
   "id": "derived-colleague",
   "metadata": {},
   "outputs": [
    {
     "data": {
      "text/html": [
       "<div>\n",
       "<style scoped>\n",
       "    .dataframe tbody tr th:only-of-type {\n",
       "        vertical-align: middle;\n",
       "    }\n",
       "\n",
       "    .dataframe tbody tr th {\n",
       "        vertical-align: top;\n",
       "    }\n",
       "\n",
       "    .dataframe thead th {\n",
       "        text-align: right;\n",
       "    }\n",
       "</style>\n",
       "<table border=\"1\" class=\"dataframe\">\n",
       "  <thead>\n",
       "    <tr style=\"text-align: right;\">\n",
       "      <th></th>\n",
       "      <th>train</th>\n",
       "      <th>test</th>\n",
       "    </tr>\n",
       "  </thead>\n",
       "  <tbody>\n",
       "    <tr>\n",
       "      <th>R2</th>\n",
       "      <td>0.961240</td>\n",
       "      <td>0.939360</td>\n",
       "    </tr>\n",
       "    <tr>\n",
       "      <th>mae</th>\n",
       "      <td>0.830284</td>\n",
       "      <td>1.015983</td>\n",
       "    </tr>\n",
       "    <tr>\n",
       "      <th>mse</th>\n",
       "      <td>0.985835</td>\n",
       "      <td>1.627622</td>\n",
       "    </tr>\n",
       "    <tr>\n",
       "      <th>rmse</th>\n",
       "      <td>0.992892</td>\n",
       "      <td>1.275783</td>\n",
       "    </tr>\n",
       "  </tbody>\n",
       "</table>\n",
       "</div>"
      ],
      "text/plain": [
       "         train      test\n",
       "R2    0.961240  0.939360\n",
       "mae   0.830284  1.015983\n",
       "mse   0.985835  1.627622\n",
       "rmse  0.992892  1.275783"
      ]
     },
     "execution_count": 40,
     "metadata": {},
     "output_type": "execute_result"
    }
   ],
   "source": [
    "train_val(grid_model, X_train, y_train, X_test, y_test)"
   ]
  },
  {
   "cell_type": "raw",
   "id": "elect-sugar",
   "metadata": {},
   "source": [
    "test_r2                             0.835971\n",
    "test_neg_mean_absolute_error       -1.116024\n",
    "test_neg_mean_squared_error        -4.898089\n",
    "test_neg_root_mean_squared_error   -1.892615"
   ]
  },
  {
   "cell_type": "markdown",
   "id": "patient-warning",
   "metadata": {},
   "source": [
    "## Feature importance for AdaBoosting"
   ]
  },
  {
   "cell_type": "code",
   "execution_count": 41,
   "id": "vocal-printing",
   "metadata": {},
   "outputs": [
    {
     "data": {
      "text/plain": [
       "AdaBoostRegressor(learning_rate=0.5, n_estimators=500, random_state=101)"
      ]
     },
     "execution_count": 41,
     "metadata": {},
     "output_type": "execute_result"
    }
   ],
   "source": [
    "model = AdaBoostRegressor(random_state=101,n_estimators=500, learning_rate=0.5)\n",
    "model.fit(X_train, y_train)"
   ]
  },
  {
   "cell_type": "code",
   "execution_count": 42,
   "id": "wooden-abortion",
   "metadata": {},
   "outputs": [
    {
     "data": {
      "text/plain": [
       "array([0.01408638, 0.83349813, 0.03292981, 0.01693637, 0.00109642,\n",
       "       0.00269668, 0.00121041, 0.0975458 ])"
      ]
     },
     "execution_count": 42,
     "metadata": {},
     "output_type": "execute_result"
    }
   ],
   "source": [
    "model.feature_importances_"
   ]
  },
  {
   "cell_type": "code",
   "execution_count": 43,
   "id": "contrary-wireless",
   "metadata": {},
   "outputs": [
    {
     "data": {
      "text/html": [
       "<div>\n",
       "<style scoped>\n",
       "    .dataframe tbody tr th:only-of-type {\n",
       "        vertical-align: middle;\n",
       "    }\n",
       "\n",
       "    .dataframe tbody tr th {\n",
       "        vertical-align: top;\n",
       "    }\n",
       "\n",
       "    .dataframe thead th {\n",
       "        text-align: right;\n",
       "    }\n",
       "</style>\n",
       "<table border=\"1\" class=\"dataframe\">\n",
       "  <thead>\n",
       "    <tr style=\"text-align: right;\">\n",
       "      <th></th>\n",
       "      <th>ada_Importance</th>\n",
       "    </tr>\n",
       "  </thead>\n",
       "  <tbody>\n",
       "    <tr>\n",
       "      <th>Seller_Type</th>\n",
       "      <td>0.001096</td>\n",
       "    </tr>\n",
       "    <tr>\n",
       "      <th>Owner</th>\n",
       "      <td>0.001210</td>\n",
       "    </tr>\n",
       "    <tr>\n",
       "      <th>Transmission</th>\n",
       "      <td>0.002697</td>\n",
       "    </tr>\n",
       "    <tr>\n",
       "      <th>Car_Name</th>\n",
       "      <td>0.014086</td>\n",
       "    </tr>\n",
       "    <tr>\n",
       "      <th>Fuel_Type</th>\n",
       "      <td>0.016936</td>\n",
       "    </tr>\n",
       "    <tr>\n",
       "      <th>Kms_Driven</th>\n",
       "      <td>0.032930</td>\n",
       "    </tr>\n",
       "    <tr>\n",
       "      <th>vehicle_age</th>\n",
       "      <td>0.097546</td>\n",
       "    </tr>\n",
       "    <tr>\n",
       "      <th>Present_Price</th>\n",
       "      <td>0.833498</td>\n",
       "    </tr>\n",
       "  </tbody>\n",
       "</table>\n",
       "</div>"
      ],
      "text/plain": [
       "               ada_Importance\n",
       "Seller_Type          0.001096\n",
       "Owner                0.001210\n",
       "Transmission         0.002697\n",
       "Car_Name             0.014086\n",
       "Fuel_Type            0.016936\n",
       "Kms_Driven           0.032930\n",
       "vehicle_age          0.097546\n",
       "Present_Price        0.833498"
      ]
     },
     "execution_count": 43,
     "metadata": {},
     "output_type": "execute_result"
    }
   ],
   "source": [
    "imp_feats = pd.DataFrame(index=X.columns,data=model.feature_importances_,columns=['ada_Importance'])\n",
    "ada_imp_feats = imp_feats.sort_values('ada_Importance')\n",
    "ada_imp_feats"
   ]
  },
  {
   "cell_type": "code",
   "execution_count": 44,
   "id": "mineral-intersection",
   "metadata": {},
   "outputs": [
    {
     "data": {
      "image/png": "[encoded data removed]",
      "text/plain": [
       "<Figure size 864x432 with 1 Axes>"
      ]
     },
     "metadata": {
      "needs_background": "light"
     },
     "output_type": "display_data"
    }
   ],
   "source": [
    "plt.figure(figsize=(12,6))\n",
    "sns.barplot(data=ada_imp_feats, x=ada_imp_feats.index, y='ada_Importance')\n",
    "\n",
    "plt.xticks(rotation=90);"
   ]
  },
  {
   "cell_type": "markdown",
   "id": "declared-occupation",
   "metadata": {},
   "source": [
    "# 2. Gradient Boosting Regressor"
   ]
  },
  {
   "cell_type": "code",
   "execution_count": 45,
   "id": "fantastic-thread",
   "metadata": {},
   "outputs": [],
   "source": [
    "from sklearn.ensemble import GradientBoostingRegressor"
   ]
  },
  {
   "cell_type": "code",
   "execution_count": 46,
   "id": "professional-tribe",
   "metadata": {},
   "outputs": [],
   "source": [
    "grad_model = GradientBoostingRegressor(random_state=101)"
   ]
  },
  {
   "cell_type": "code",
   "execution_count": 47,
   "id": "permanent-encoding",
   "metadata": {},
   "outputs": [
    {
     "data": {
      "text/plain": [
       "GradientBoostingRegressor(random_state=101)"
      ]
     },
     "execution_count": 47,
     "metadata": {},
     "output_type": "execute_result"
    }
   ],
   "source": [
    "grad_model.fit(X_train, y_train)"
   ]
  },
  {
   "cell_type": "code",
   "execution_count": 48,
   "id": "conservative-thanksgiving",
   "metadata": {},
   "outputs": [
    {
     "data": {
      "text/html": [
       "<div>\n",
       "<style scoped>\n",
       "    .dataframe tbody tr th:only-of-type {\n",
       "        vertical-align: middle;\n",
       "    }\n",
       "\n",
       "    .dataframe tbody tr th {\n",
       "        vertical-align: top;\n",
       "    }\n",
       "\n",
       "    .dataframe thead th {\n",
       "        text-align: right;\n",
       "    }\n",
       "</style>\n",
       "<table border=\"1\" class=\"dataframe\">\n",
       "  <thead>\n",
       "    <tr style=\"text-align: right;\">\n",
       "      <th></th>\n",
       "      <th>train</th>\n",
       "      <th>test</th>\n",
       "    </tr>\n",
       "  </thead>\n",
       "  <tbody>\n",
       "    <tr>\n",
       "      <th>R2</th>\n",
       "      <td>0.996501</td>\n",
       "      <td>0.970278</td>\n",
       "    </tr>\n",
       "    <tr>\n",
       "      <th>mae</th>\n",
       "      <td>0.217741</td>\n",
       "      <td>0.533569</td>\n",
       "    </tr>\n",
       "    <tr>\n",
       "      <th>mse</th>\n",
       "      <td>0.088991</td>\n",
       "      <td>0.797770</td>\n",
       "    </tr>\n",
       "    <tr>\n",
       "      <th>rmse</th>\n",
       "      <td>0.298314</td>\n",
       "      <td>0.893180</td>\n",
       "    </tr>\n",
       "  </tbody>\n",
       "</table>\n",
       "</div>"
      ],
      "text/plain": [
       "         train      test\n",
       "R2    0.996501  0.970278\n",
       "mae   0.217741  0.533569\n",
       "mse   0.088991  0.797770\n",
       "rmse  0.298314  0.893180"
      ]
     },
     "execution_count": 48,
     "metadata": {},
     "output_type": "execute_result"
    }
   ],
   "source": [
    "train_val(grad_model, X_train, y_train, X_test, y_test)"
   ]
  },
  {
   "cell_type": "code",
   "execution_count": 49,
   "id": "regulation-relations",
   "metadata": {},
   "outputs": [
    {
     "data": {
      "text/plain": [
       "test_r2                             0.890442\n",
       "test_neg_mean_absolute_error       -0.751150\n",
       "test_neg_mean_squared_error        -3.348033\n",
       "test_neg_root_mean_squared_error   -1.552812\n",
       "dtype: float64"
      ]
     },
     "execution_count": 49,
     "metadata": {},
     "output_type": "execute_result"
    }
   ],
   "source": [
    "model = GradientBoostingRegressor(random_state=101)\n",
    "scores = cross_validate(model, X_train, y_train, scoring=['r2', \n",
    "            'neg_mean_absolute_error','neg_mean_squared_error','neg_root_mean_squared_error'], cv =10)\n",
    "pd.DataFrame(scores)\n",
    "pd.DataFrame(scores).mean()[2:]"
   ]
  },
  {
   "cell_type": "markdown",
   "id": "accurate-valley",
   "metadata": {},
   "source": [
    "## Gridsearch for Gradient boosting"
   ]
  },
  {
   "cell_type": "code",
   "execution_count": 50,
   "id": "historic-dialogue",
   "metadata": {},
   "outputs": [],
   "source": [
    "param_grid = {\"n_estimators\":[100, 200, 300], \"subsample\":[0.8, 1], \"max_features\" : [None, 2, 3, 4],\n",
    "            \"learning_rate\": [0.001, 0.01, 0.1, 0.5], 'max_depth':[2,3]}"
   ]
  },
  {
   "cell_type": "code",
   "execution_count": 51,
   "id": "liberal-printing",
   "metadata": {},
   "outputs": [],
   "source": [
    "model = GradientBoostingRegressor(random_state=101)\n",
    "grid_model = GridSearchCV(estimator=model,\n",
    "                          param_grid=param_grid,\n",
    "                          scoring='neg_root_mean_squared_error',\n",
    "                          cv=10,\n",
    "                          n_jobs = -1)"
   ]
  },
  {
   "cell_type": "code",
   "execution_count": 52,
   "id": "fleet-forwarding",
   "metadata": {},
   "outputs": [
    {
     "data": {
      "text/plain": [
       "GridSearchCV(cv=10, estimator=GradientBoostingRegressor(random_state=101),\n",
       "             n_jobs=-1,\n",
       "             param_grid={'learning_rate': [0.001, 0.01, 0.1, 0.5],\n",
       "                         'max_depth': [2, 3], 'max_features': [None, 2, 3, 4],\n",
       "                         'n_estimators': [100, 200, 300],\n",
       "                         'subsample': [0.8, 1]},\n",
       "             scoring='neg_root_mean_squared_error')"
      ]
     },
     "execution_count": 52,
     "metadata": {},
     "output_type": "execute_result"
    }
   ],
   "source": [
    "grid_model.fit(X_train, y_train)"
   ]
  },
  {
   "cell_type": "code",
   "execution_count": 53,
   "id": "impressed-gallery",
   "metadata": {},
   "outputs": [
    {
     "data": {
      "text/plain": [
       "{'learning_rate': 0.1,\n",
       " 'max_depth': 2,\n",
       " 'max_features': 4,\n",
       " 'n_estimators': 300,\n",
       " 'subsample': 0.8}"
      ]
     },
     "execution_count": 53,
     "metadata": {},
     "output_type": "execute_result"
    }
   ],
   "source": [
    "grid_model.best_params_"
   ]
  },
  {
   "cell_type": "code",
   "execution_count": 54,
   "id": "designed-composition",
   "metadata": {},
   "outputs": [
    {
     "data": {
      "text/plain": [
       "-1.3604843443220447"
      ]
     },
     "execution_count": 54,
     "metadata": {},
     "output_type": "execute_result"
    }
   ],
   "source": [
    "grid_model.best_score_"
   ]
  },
  {
   "cell_type": "code",
   "execution_count": 55,
   "id": "revolutionary-beach",
   "metadata": {},
   "outputs": [
    {
     "data": {
      "text/html": [
       "<div>\n",
       "<style scoped>\n",
       "    .dataframe tbody tr th:only-of-type {\n",
       "        vertical-align: middle;\n",
       "    }\n",
       "\n",
       "    .dataframe tbody tr th {\n",
       "        vertical-align: top;\n",
       "    }\n",
       "\n",
       "    .dataframe thead th {\n",
       "        text-align: right;\n",
       "    }\n",
       "</style>\n",
       "<table border=\"1\" class=\"dataframe\">\n",
       "  <thead>\n",
       "    <tr style=\"text-align: right;\">\n",
       "      <th></th>\n",
       "      <th>train</th>\n",
       "      <th>test</th>\n",
       "    </tr>\n",
       "  </thead>\n",
       "  <tbody>\n",
       "    <tr>\n",
       "      <th>R2</th>\n",
       "      <td>0.996280</td>\n",
       "      <td>0.95419</td>\n",
       "    </tr>\n",
       "    <tr>\n",
       "      <th>mae</th>\n",
       "      <td>0.228673</td>\n",
       "      <td>0.58534</td>\n",
       "    </tr>\n",
       "    <tr>\n",
       "      <th>mse</th>\n",
       "      <td>0.094620</td>\n",
       "      <td>1.22957</td>\n",
       "    </tr>\n",
       "    <tr>\n",
       "      <th>rmse</th>\n",
       "      <td>0.307604</td>\n",
       "      <td>1.10886</td>\n",
       "    </tr>\n",
       "  </tbody>\n",
       "</table>\n",
       "</div>"
      ],
      "text/plain": [
       "         train     test\n",
       "R2    0.996280  0.95419\n",
       "mae   0.228673  0.58534\n",
       "mse   0.094620  1.22957\n",
       "rmse  0.307604  1.10886"
      ]
     },
     "execution_count": 55,
     "metadata": {},
     "output_type": "execute_result"
    }
   ],
   "source": [
    "train_val(grid_model, X_train, y_train, X_test, y_test)"
   ]
  },
  {
   "cell_type": "code",
   "execution_count": 56,
   "id": "blocked-costa",
   "metadata": {},
   "outputs": [
    {
     "data": {
      "text/plain": [
       "test_r2                             0.911073\n",
       "test_neg_mean_absolute_error       -0.720990\n",
       "test_neg_mean_squared_error        -2.572960\n",
       "test_neg_root_mean_squared_error   -1.360484\n",
       "dtype: float64"
      ]
     },
     "execution_count": 56,
     "metadata": {},
     "output_type": "execute_result"
    }
   ],
   "source": [
    "model = GradientBoostingRegressor(random_state=101, max_depth=2, max_features=4, n_estimators=300, subsample=0.8)\n",
    "scores = cross_validate(model, X_train, y_train, scoring=['r2', \n",
    "            'neg_mean_absolute_error','neg_mean_squared_error','neg_root_mean_squared_error'], cv =10)\n",
    "pd.DataFrame(scores).mean()[2:]"
   ]
  },
  {
   "cell_type": "markdown",
   "id": "polyphonic-humanitarian",
   "metadata": {},
   "source": [
    "## Feature importance for Gradient boosting"
   ]
  },
  {
   "cell_type": "code",
   "execution_count": 57,
   "id": "anticipated-speech",
   "metadata": {},
   "outputs": [
    {
     "data": {
      "text/plain": [
       "GradientBoostingRegressor(max_depth=2, max_features=4, n_estimators=300,\n",
       "                          random_state=101, subsample=0.8)"
      ]
     },
     "execution_count": 57,
     "metadata": {},
     "output_type": "execute_result"
    }
   ],
   "source": [
    "model = GradientBoostingRegressor(random_state=101, max_depth=2, max_features=4, n_estimators=300, subsample=0.8)\n",
    "model.fit(X_train, y_train)"
   ]
  },
  {
   "cell_type": "code",
   "execution_count": 58,
   "id": "available-nomination",
   "metadata": {},
   "outputs": [
    {
     "data": {
      "text/plain": [
       "array([9.12937722e-02, 7.35751195e-01, 3.21390246e-02, 5.25140122e-02,\n",
       "       1.35299779e-02, 2.01178997e-02, 2.58794909e-04, 5.43953234e-02])"
      ]
     },
     "execution_count": 58,
     "metadata": {},
     "output_type": "execute_result"
    }
   ],
   "source": [
    "model.feature_importances_"
   ]
  },
  {
   "cell_type": "code",
   "execution_count": 59,
   "id": "running-coordinate",
   "metadata": {},
   "outputs": [
    {
     "data": {
      "text/html": [
       "<div>\n",
       "<style scoped>\n",
       "    .dataframe tbody tr th:only-of-type {\n",
       "        vertical-align: middle;\n",
       "    }\n",
       "\n",
       "    .dataframe tbody tr th {\n",
       "        vertical-align: top;\n",
       "    }\n",
       "\n",
       "    .dataframe thead th {\n",
       "        text-align: right;\n",
       "    }\n",
       "</style>\n",
       "<table border=\"1\" class=\"dataframe\">\n",
       "  <thead>\n",
       "    <tr style=\"text-align: right;\">\n",
       "      <th></th>\n",
       "      <th>grad_Importance</th>\n",
       "    </tr>\n",
       "  </thead>\n",
       "  <tbody>\n",
       "    <tr>\n",
       "      <th>Owner</th>\n",
       "      <td>0.000259</td>\n",
       "    </tr>\n",
       "    <tr>\n",
       "      <th>Seller_Type</th>\n",
       "      <td>0.013530</td>\n",
       "    </tr>\n",
       "    <tr>\n",
       "      <th>Transmission</th>\n",
       "      <td>0.020118</td>\n",
       "    </tr>\n",
       "    <tr>\n",
       "      <th>Kms_Driven</th>\n",
       "      <td>0.032139</td>\n",
       "    </tr>\n",
       "    <tr>\n",
       "      <th>Fuel_Type</th>\n",
       "      <td>0.052514</td>\n",
       "    </tr>\n",
       "    <tr>\n",
       "      <th>vehicle_age</th>\n",
       "      <td>0.054395</td>\n",
       "    </tr>\n",
       "    <tr>\n",
       "      <th>Car_Name</th>\n",
       "      <td>0.091294</td>\n",
       "    </tr>\n",
       "    <tr>\n",
       "      <th>Present_Price</th>\n",
       "      <td>0.735751</td>\n",
       "    </tr>\n",
       "  </tbody>\n",
       "</table>\n",
       "</div>"
      ],
      "text/plain": [
       "               grad_Importance\n",
       "Owner                 0.000259\n",
       "Seller_Type           0.013530\n",
       "Transmission          0.020118\n",
       "Kms_Driven            0.032139\n",
       "Fuel_Type             0.052514\n",
       "vehicle_age           0.054395\n",
       "Car_Name              0.091294\n",
       "Present_Price         0.735751"
      ]
     },
     "execution_count": 59,
     "metadata": {},
     "output_type": "execute_result"
    }
   ],
   "source": [
    "imp_feats = pd.DataFrame(index=X.columns,data=model.feature_importances_,columns=['grad_Importance'])\n",
    "grad_imp_feats = imp_feats.sort_values('grad_Importance')\n",
    "grad_imp_feats"
   ]
  },
  {
   "cell_type": "code",
   "execution_count": 60,
   "id": "boxed-sympathy",
   "metadata": {},
   "outputs": [
    {
     "data": {
      "image/png": "[encoded data removed]",
      "text/plain": [
       "<Figure size 864x432 with 1 Axes>"
      ]
     },
     "metadata": {
      "needs_background": "light"
     },
     "output_type": "display_data"
    }
   ],
   "source": [
    "plt.figure(figsize=(12,6))\n",
    "sns.barplot(data=grad_imp_feats, x=grad_imp_feats.index, y='grad_Importance')\n",
    "\n",
    "plt.xticks(rotation=90);"
   ]
  },
  {
   "cell_type": "markdown",
   "id": "expensive-office",
   "metadata": {},
   "source": [
    "# XGBoost (Extreme Gradient Boosting) Regressor"
   ]
  },
  {
   "cell_type": "code",
   "execution_count": 61,
   "id": "a0f42b48",
   "metadata": {},
   "outputs": [],
   "source": [
    "#!pip install --upgrade pip"
   ]
  },
  {
   "cell_type": "code",
   "execution_count": 62,
   "id": "related-toilet",
   "metadata": {},
   "outputs": [],
   "source": [
    "#!pip install xgboost"
   ]
  },
  {
   "cell_type": "code",
   "execution_count": 63,
   "id": "reverse-authority",
   "metadata": {},
   "outputs": [],
   "source": [
    "from xgboost import XGBRegressor"
   ]
  },
  {
   "cell_type": "code",
   "execution_count": 64,
   "id": "experienced-gather",
   "metadata": {},
   "outputs": [],
   "source": [
    "xgb_model = XGBRegressor(random_state=101, objective=\"reg:squarederror\") #objective=\"reg:squarederror\""
   ]
  },
  {
   "cell_type": "code",
   "execution_count": 65,
   "id": "thermal-cream",
   "metadata": {},
   "outputs": [
    {
     "data": {
      "text/plain": [
       "XGBRegressor(base_score=0.5, booster='gbtree', callbacks=None,\n",
       "             colsample_bylevel=1, colsample_bynode=1, colsample_bytree=1,\n",
       "             early_stopping_rounds=None, enable_categorical=False,\n",
       "             eval_metric=None, gamma=0, gpu_id=-1, grow_policy='depthwise',\n",
       "             importance_type=None, interaction_constraints='',\n",
       "             learning_rate=0.300000012, max_bin=256, max_cat_to_onehot=4,\n",
       "             max_delta_step=0, max_depth=6, max_leaves=0, min_child_weight=1,\n",
       "             missing=nan, monotone_constraints='()', n_estimators=100, n_jobs=0,\n",
       "             num_parallel_tree=1, predictor='auto', random_state=101,\n",
       "             reg_alpha=0, reg_lambda=1, ...)"
      ]
     },
     "execution_count": 65,
     "metadata": {},
     "output_type": "execute_result"
    }
   ],
   "source": [
    "xgb_model.fit(X_train, y_train)"
   ]
  },
  {
   "cell_type": "code",
   "execution_count": 66,
   "id": "higher-endorsement",
   "metadata": {},
   "outputs": [
    {
     "data": {
      "text/html": [
       "<div>\n",
       "<style scoped>\n",
       "    .dataframe tbody tr th:only-of-type {\n",
       "        vertical-align: middle;\n",
       "    }\n",
       "\n",
       "    .dataframe tbody tr th {\n",
       "        vertical-align: top;\n",
       "    }\n",
       "\n",
       "    .dataframe thead th {\n",
       "        text-align: right;\n",
       "    }\n",
       "</style>\n",
       "<table border=\"1\" class=\"dataframe\">\n",
       "  <thead>\n",
       "    <tr style=\"text-align: right;\">\n",
       "      <th></th>\n",
       "      <th>train</th>\n",
       "      <th>test</th>\n",
       "    </tr>\n",
       "  </thead>\n",
       "  <tbody>\n",
       "    <tr>\n",
       "      <th>R2</th>\n",
       "      <td>0.999999</td>\n",
       "      <td>0.971793</td>\n",
       "    </tr>\n",
       "    <tr>\n",
       "      <th>mae</th>\n",
       "      <td>0.004302</td>\n",
       "      <td>0.503537</td>\n",
       "    </tr>\n",
       "    <tr>\n",
       "      <th>mse</th>\n",
       "      <td>0.000035</td>\n",
       "      <td>0.757107</td>\n",
       "    </tr>\n",
       "    <tr>\n",
       "      <th>rmse</th>\n",
       "      <td>0.005933</td>\n",
       "      <td>0.870119</td>\n",
       "    </tr>\n",
       "  </tbody>\n",
       "</table>\n",
       "</div>"
      ],
      "text/plain": [
       "         train      test\n",
       "R2    0.999999  0.971793\n",
       "mae   0.004302  0.503537\n",
       "mse   0.000035  0.757107\n",
       "rmse  0.005933  0.870119"
      ]
     },
     "execution_count": 66,
     "metadata": {},
     "output_type": "execute_result"
    }
   ],
   "source": [
    "train_val(xgb_model, X_train, y_train, X_test, y_test)"
   ]
  },
  {
   "cell_type": "code",
   "execution_count": 67,
   "id": "closed-jurisdiction",
   "metadata": {},
   "outputs": [
    {
     "data": {
      "text/plain": [
       "test_r2                             0.900763\n",
       "test_neg_mean_absolute_error       -0.732499\n",
       "test_neg_mean_squared_error        -2.789084\n",
       "test_neg_root_mean_squared_error   -1.435410\n",
       "dtype: float64"
      ]
     },
     "execution_count": 67,
     "metadata": {},
     "output_type": "execute_result"
    }
   ],
   "source": [
    "model = XGBRegressor(random_state=101, objective=\"reg:squarederror\")\n",
    "scores = cross_validate(model, X_train, y_train, scoring=['r2', \n",
    "            'neg_mean_absolute_error','neg_mean_squared_error','neg_root_mean_squared_error'], cv =10)\n",
    "pd.DataFrame(scores).iloc[:, 2:].mean()"
   ]
  },
  {
   "cell_type": "markdown",
   "id": "improving-given",
   "metadata": {},
   "source": [
    "## Gridsearch for XGBoost"
   ]
  },
  {
   "cell_type": "code",
   "execution_count": 68,
   "id": "approximate-sauce",
   "metadata": {},
   "outputs": [],
   "source": [
    "# Weak learning mantığından dolayı max_depth'i çok arttırmamak gerekiyor\n",
    "param_grid = {\"n_estimators\":[100, 300,500],'max_depth':[3,5,6,7], \"learning_rate\": [0.05, 0.1, 0.2],\n",
    "             \"subsample\":[0.5, 1], \"colsample_bytree\":[0.5, 1]}"
   ]
  },
  {
   "cell_type": "code",
   "execution_count": 69,
   "id": "acute-assembly",
   "metadata": {},
   "outputs": [],
   "source": [
    "model = XGBRegressor(random_state=101, objective=\"reg:squarederror\")\n",
    "grid_model = GridSearchCV(estimator=model,\n",
    "                          param_grid=param_grid,\n",
    "                          scoring='neg_root_mean_squared_error',\n",
    "                          cv=10,\n",
    "                          n_jobs = -1)"
   ]
  },
  {
   "cell_type": "code",
   "execution_count": 70,
   "id": "normal-gothic",
   "metadata": {},
   "outputs": [
    {
     "data": {
      "text/plain": [
       "GridSearchCV(cv=10,\n",
       "             estimator=XGBRegressor(base_score=None, booster=None,\n",
       "                                    callbacks=None, colsample_bylevel=None,\n",
       "                                    colsample_bynode=None,\n",
       "                                    colsample_bytree=None,\n",
       "                                    early_stopping_rounds=None,\n",
       "                                    enable_categorical=False, eval_metric=None,\n",
       "                                    gamma=None, gpu_id=None, grow_policy=None,\n",
       "                                    importance_type=None,\n",
       "                                    interaction_constraints=None,\n",
       "                                    learning_rate=None, max_bin=None,\n",
       "                                    max_ca...\n",
       "                                    min_child_weight=None, missing=nan,\n",
       "                                    monotone_constraints=None, n_estimators=100,\n",
       "                                    n_jobs=None, num_parallel_tree=None,\n",
       "                                    predictor=None, random_state=101,\n",
       "                                    reg_alpha=None, reg_lambda=None, ...),\n",
       "             n_jobs=-1,\n",
       "             param_grid={'colsample_bytree': [0.5, 1],\n",
       "                         'learning_rate': [0.05, 0.1, 0.2],\n",
       "                         'max_depth': [3, 5, 6, 7],\n",
       "                         'n_estimators': [100, 300, 500],\n",
       "                         'subsample': [0.5, 1]},\n",
       "             scoring='neg_root_mean_squared_error')"
      ]
     },
     "execution_count": 70,
     "metadata": {},
     "output_type": "execute_result"
    }
   ],
   "source": [
    "grid_model.fit(X_train, y_train)"
   ]
  },
  {
   "cell_type": "code",
   "execution_count": 71,
   "id": "unexpected-paint",
   "metadata": {},
   "outputs": [
    {
     "data": {
      "text/plain": [
       "{'colsample_bytree': 1,\n",
       " 'learning_rate': 0.2,\n",
       " 'max_depth': 6,\n",
       " 'n_estimators': 100,\n",
       " 'subsample': 0.5}"
      ]
     },
     "execution_count": 71,
     "metadata": {},
     "output_type": "execute_result"
    }
   ],
   "source": [
    "grid_model.best_params_"
   ]
  },
  {
   "cell_type": "code",
   "execution_count": 72,
   "id": "dramatic-saskatchewan",
   "metadata": {},
   "outputs": [
    {
     "data": {
      "text/plain": [
       "-1.1771591478016128"
      ]
     },
     "execution_count": 72,
     "metadata": {},
     "output_type": "execute_result"
    }
   ],
   "source": [
    "grid_model.best_score_"
   ]
  },
  {
   "cell_type": "code",
   "execution_count": 73,
   "id": "crazy-program",
   "metadata": {},
   "outputs": [
    {
     "data": {
      "text/html": [
       "<div>\n",
       "<style scoped>\n",
       "    .dataframe tbody tr th:only-of-type {\n",
       "        vertical-align: middle;\n",
       "    }\n",
       "\n",
       "    .dataframe tbody tr th {\n",
       "        vertical-align: top;\n",
       "    }\n",
       "\n",
       "    .dataframe thead th {\n",
       "        text-align: right;\n",
       "    }\n",
       "</style>\n",
       "<table border=\"1\" class=\"dataframe\">\n",
       "  <thead>\n",
       "    <tr style=\"text-align: right;\">\n",
       "      <th></th>\n",
       "      <th>train</th>\n",
       "      <th>test</th>\n",
       "    </tr>\n",
       "  </thead>\n",
       "  <tbody>\n",
       "    <tr>\n",
       "      <th>R2</th>\n",
       "      <td>0.999791</td>\n",
       "      <td>0.973263</td>\n",
       "    </tr>\n",
       "    <tr>\n",
       "      <th>mae</th>\n",
       "      <td>0.054037</td>\n",
       "      <td>0.507799</td>\n",
       "    </tr>\n",
       "    <tr>\n",
       "      <th>mse</th>\n",
       "      <td>0.005328</td>\n",
       "      <td>0.717641</td>\n",
       "    </tr>\n",
       "    <tr>\n",
       "      <th>rmse</th>\n",
       "      <td>0.072994</td>\n",
       "      <td>0.847137</td>\n",
       "    </tr>\n",
       "  </tbody>\n",
       "</table>\n",
       "</div>"
      ],
      "text/plain": [
       "         train      test\n",
       "R2    0.999791  0.973263\n",
       "mae   0.054037  0.507799\n",
       "mse   0.005328  0.717641\n",
       "rmse  0.072994  0.847137"
      ]
     },
     "execution_count": 73,
     "metadata": {},
     "output_type": "execute_result"
    }
   ],
   "source": [
    "train_val(grid_model, X_train, y_train, X_test, y_test)"
   ]
  },
  {
   "cell_type": "markdown",
   "id": "smart-mouth",
   "metadata": {},
   "source": [
    "## Feature importance for XGBoost"
   ]
  },
  {
   "cell_type": "code",
   "execution_count": 74,
   "id": "voluntary-amateur",
   "metadata": {},
   "outputs": [
    {
     "name": "stdout",
     "output_type": "stream",
     "text": [
      "[09:21:58] WARNING: C:/Users/administrator/workspace/xgboost-win64_release_1.6.0/src/learner.cc:627: \n",
      "Parameters: { \"max_dept\" } might not be used.\n",
      "\n",
      "  This could be a false alarm, with some parameters getting used by language bindings but\n",
      "  then being mistakenly passed down to XGBoost core, or some parameter actually being used\n",
      "  but getting flagged wrongly here. Please open an issue if you find any such cases.\n",
      "\n",
      "\n"
     ]
    },
    {
     "data": {
      "text/plain": [
       "XGBRegressor(base_score=0.5, booster='gbtree', callbacks=None,\n",
       "             colsample_bylevel=1, colsample_bynode=1, colsample_bytree=1,\n",
       "             early_stopping_rounds=None, enable_categorical=False,\n",
       "             eval_metric=None, gamma=0, gpu_id=-1, grow_policy='depthwise',\n",
       "             importance_type=None, interaction_constraints='',\n",
       "             learning_rate=0.2, max_bin=256, max_cat_to_onehot=4,\n",
       "             max_delta_step=0, max_dept=6, max_depth=6, max_leaves=0,\n",
       "             min_child_weight=1, missing=nan, monotone_constraints='()',\n",
       "             n_estimators=100, n_jobs=0, num_parallel_tree=1, predictor='auto',\n",
       "             random_state=101, reg_alpha=0, ...)"
      ]
     },
     "execution_count": 74,
     "metadata": {},
     "output_type": "execute_result"
    }
   ],
   "source": [
    "model = XGBRegressor(random_state=101, objective=\"reg:squarederror\",learning_rate=0.2, max_dept=6, subsample=0.5)\n",
    "model.fit(X_train, y_train)"
   ]
  },
  {
   "cell_type": "code",
   "execution_count": 75,
   "id": "middle-belief",
   "metadata": {},
   "outputs": [
    {
     "data": {
      "text/plain": [
       "array([0.05246875, 0.7590703 , 0.01698945, 0.03854104, 0.00300673,\n",
       "       0.0086121 , 0.00297573, 0.1183359 ], dtype=float32)"
      ]
     },
     "execution_count": 75,
     "metadata": {},
     "output_type": "execute_result"
    }
   ],
   "source": [
    "model.feature_importances_"
   ]
  },
  {
   "cell_type": "code",
   "execution_count": 76,
   "id": "affecting-relation",
   "metadata": {},
   "outputs": [
    {
     "data": {
      "text/html": [
       "<div>\n",
       "<style scoped>\n",
       "    .dataframe tbody tr th:only-of-type {\n",
       "        vertical-align: middle;\n",
       "    }\n",
       "\n",
       "    .dataframe tbody tr th {\n",
       "        vertical-align: top;\n",
       "    }\n",
       "\n",
       "    .dataframe thead th {\n",
       "        text-align: right;\n",
       "    }\n",
       "</style>\n",
       "<table border=\"1\" class=\"dataframe\">\n",
       "  <thead>\n",
       "    <tr style=\"text-align: right;\">\n",
       "      <th></th>\n",
       "      <th>xgb_Importance</th>\n",
       "    </tr>\n",
       "  </thead>\n",
       "  <tbody>\n",
       "    <tr>\n",
       "      <th>Owner</th>\n",
       "      <td>0.002976</td>\n",
       "    </tr>\n",
       "    <tr>\n",
       "      <th>Seller_Type</th>\n",
       "      <td>0.003007</td>\n",
       "    </tr>\n",
       "    <tr>\n",
       "      <th>Transmission</th>\n",
       "      <td>0.008612</td>\n",
       "    </tr>\n",
       "    <tr>\n",
       "      <th>Kms_Driven</th>\n",
       "      <td>0.016989</td>\n",
       "    </tr>\n",
       "    <tr>\n",
       "      <th>Fuel_Type</th>\n",
       "      <td>0.038541</td>\n",
       "    </tr>\n",
       "    <tr>\n",
       "      <th>Car_Name</th>\n",
       "      <td>0.052469</td>\n",
       "    </tr>\n",
       "    <tr>\n",
       "      <th>vehicle_age</th>\n",
       "      <td>0.118336</td>\n",
       "    </tr>\n",
       "    <tr>\n",
       "      <th>Present_Price</th>\n",
       "      <td>0.759070</td>\n",
       "    </tr>\n",
       "  </tbody>\n",
       "</table>\n",
       "</div>"
      ],
      "text/plain": [
       "               xgb_Importance\n",
       "Owner                0.002976\n",
       "Seller_Type          0.003007\n",
       "Transmission         0.008612\n",
       "Kms_Driven           0.016989\n",
       "Fuel_Type            0.038541\n",
       "Car_Name             0.052469\n",
       "vehicle_age          0.118336\n",
       "Present_Price        0.759070"
      ]
     },
     "execution_count": 76,
     "metadata": {},
     "output_type": "execute_result"
    }
   ],
   "source": [
    "imp_feats = pd.DataFrame(index=X.columns,data=model.feature_importances_,columns=['xgb_Importance'])\n",
    "xgb_imp_feats = imp_feats.sort_values('xgb_Importance')\n",
    "xgb_imp_feats"
   ]
  },
  {
   "cell_type": "code",
   "execution_count": 77,
   "id": "english-metabolism",
   "metadata": {},
   "outputs": [
    {
     "data": {
      "image/png": "[encoded data removed]",
      "text/plain": [
       "<Figure size 864x432 with 1 Axes>"
      ]
     },
     "metadata": {
      "needs_background": "light"
     },
     "output_type": "display_data"
    }
   ],
   "source": [
    "plt.figure(figsize=(12,6))\n",
    "sns.barplot(data=xgb_imp_feats, x=xgb_imp_feats.index, y='xgb_Importance')\n",
    "\n",
    "plt.xticks(rotation=90);"
   ]
  },
  {
   "cell_type": "markdown",
   "id": "3856cbeb",
   "metadata": {},
   "source": [
    "## Feature importance comparison"
   ]
  },
  {
   "cell_type": "code",
   "execution_count": 78,
   "id": "078e1f44",
   "metadata": {
    "scrolled": true
   },
   "outputs": [
    {
     "data": {
      "text/html": [
       "<div>\n",
       "<style scoped>\n",
       "    .dataframe tbody tr th:only-of-type {\n",
       "        vertical-align: middle;\n",
       "    }\n",
       "\n",
       "    .dataframe tbody tr th {\n",
       "        vertical-align: top;\n",
       "    }\n",
       "\n",
       "    .dataframe thead th {\n",
       "        text-align: right;\n",
       "    }\n",
       "</style>\n",
       "<table border=\"1\" class=\"dataframe\">\n",
       "  <thead>\n",
       "    <tr style=\"text-align: right;\">\n",
       "      <th></th>\n",
       "      <th>ada_Importance</th>\n",
       "      <th>grad_Importance</th>\n",
       "      <th>xgb_Importance</th>\n",
       "    </tr>\n",
       "  </thead>\n",
       "  <tbody>\n",
       "    <tr>\n",
       "      <th>Seller_Type</th>\n",
       "      <td>0.001096</td>\n",
       "      <td>0.013530</td>\n",
       "      <td>0.003007</td>\n",
       "    </tr>\n",
       "    <tr>\n",
       "      <th>Owner</th>\n",
       "      <td>0.001210</td>\n",
       "      <td>0.000259</td>\n",
       "      <td>0.002976</td>\n",
       "    </tr>\n",
       "    <tr>\n",
       "      <th>Transmission</th>\n",
       "      <td>0.002697</td>\n",
       "      <td>0.020118</td>\n",
       "      <td>0.008612</td>\n",
       "    </tr>\n",
       "    <tr>\n",
       "      <th>Car_Name</th>\n",
       "      <td>0.014086</td>\n",
       "      <td>0.091294</td>\n",
       "      <td>0.052469</td>\n",
       "    </tr>\n",
       "    <tr>\n",
       "      <th>Fuel_Type</th>\n",
       "      <td>0.016936</td>\n",
       "      <td>0.052514</td>\n",
       "      <td>0.038541</td>\n",
       "    </tr>\n",
       "    <tr>\n",
       "      <th>Kms_Driven</th>\n",
       "      <td>0.032930</td>\n",
       "      <td>0.032139</td>\n",
       "      <td>0.016989</td>\n",
       "    </tr>\n",
       "    <tr>\n",
       "      <th>vehicle_age</th>\n",
       "      <td>0.097546</td>\n",
       "      <td>0.054395</td>\n",
       "      <td>0.118336</td>\n",
       "    </tr>\n",
       "    <tr>\n",
       "      <th>Present_Price</th>\n",
       "      <td>0.833498</td>\n",
       "      <td>0.735751</td>\n",
       "      <td>0.759070</td>\n",
       "    </tr>\n",
       "  </tbody>\n",
       "</table>\n",
       "</div>"
      ],
      "text/plain": [
       "               ada_Importance  grad_Importance  xgb_Importance\n",
       "Seller_Type          0.001096         0.013530        0.003007\n",
       "Owner                0.001210         0.000259        0.002976\n",
       "Transmission         0.002697         0.020118        0.008612\n",
       "Car_Name             0.014086         0.091294        0.052469\n",
       "Fuel_Type            0.016936         0.052514        0.038541\n",
       "Kms_Driven           0.032930         0.032139        0.016989\n",
       "vehicle_age          0.097546         0.054395        0.118336\n",
       "Present_Price        0.833498         0.735751        0.759070"
      ]
     },
     "execution_count": 78,
     "metadata": {},
     "output_type": "execute_result"
    }
   ],
   "source": [
    "pd.concat([ada_imp_feats, grad_imp_feats, xgb_imp_feats], axis=1)"
   ]
  },
  {
   "cell_type": "markdown",
   "id": "f6d3d277",
   "metadata": {},
   "source": [
    "According to the table above, \"Present_Price\" and \"vehicle_age\" are the most effective features on our target variable in three boosting models. The rest has minor importance on the Selling Price. Therefore, we can create a new model by using only these two features. Then, compare the results with the best scores that we received from the XGBoost model."
   ]
  },
  {
   "cell_type": "markdown",
   "id": "comic-parallel",
   "metadata": {},
   "source": [
    "# New model"
   ]
  },
  {
   "cell_type": "markdown",
   "id": "c652e8d4",
   "metadata": {},
   "source": [
    "Based on feature importance, we create a new model with XGBoost by using only two important features: \"Present_Price\" and \"vehicle_age\"."
   ]
  },
  {
   "cell_type": "code",
   "execution_count": 79,
   "id": "furnished-recall",
   "metadata": {},
   "outputs": [],
   "source": [
    "X_new = df[[\"vehicle_age\",  \"Present_Price\"]]"
   ]
  },
  {
   "cell_type": "code",
   "execution_count": 80,
   "id": "published-immigration",
   "metadata": {},
   "outputs": [
    {
     "data": {
      "text/html": [
       "<div>\n",
       "<style scoped>\n",
       "    .dataframe tbody tr th:only-of-type {\n",
       "        vertical-align: middle;\n",
       "    }\n",
       "\n",
       "    .dataframe tbody tr th {\n",
       "        vertical-align: top;\n",
       "    }\n",
       "\n",
       "    .dataframe thead th {\n",
       "        text-align: right;\n",
       "    }\n",
       "</style>\n",
       "<table border=\"1\" class=\"dataframe\">\n",
       "  <thead>\n",
       "    <tr style=\"text-align: right;\">\n",
       "      <th></th>\n",
       "      <th>vehicle_age</th>\n",
       "      <th>Present_Price</th>\n",
       "    </tr>\n",
       "  </thead>\n",
       "  <tbody>\n",
       "    <tr>\n",
       "      <th>0</th>\n",
       "      <td>8</td>\n",
       "      <td>5.59</td>\n",
       "    </tr>\n",
       "    <tr>\n",
       "      <th>1</th>\n",
       "      <td>9</td>\n",
       "      <td>9.54</td>\n",
       "    </tr>\n",
       "    <tr>\n",
       "      <th>2</th>\n",
       "      <td>5</td>\n",
       "      <td>9.85</td>\n",
       "    </tr>\n",
       "    <tr>\n",
       "      <th>3</th>\n",
       "      <td>11</td>\n",
       "      <td>4.15</td>\n",
       "    </tr>\n",
       "    <tr>\n",
       "      <th>4</th>\n",
       "      <td>8</td>\n",
       "      <td>6.87</td>\n",
       "    </tr>\n",
       "  </tbody>\n",
       "</table>\n",
       "</div>"
      ],
      "text/plain": [
       "   vehicle_age  Present_Price\n",
       "0            8           5.59\n",
       "1            9           9.54\n",
       "2            5           9.85\n",
       "3           11           4.15\n",
       "4            8           6.87"
      ]
     },
     "execution_count": 80,
     "metadata": {},
     "output_type": "execute_result"
    }
   ],
   "source": [
    "X_new.head()"
   ]
  },
  {
   "cell_type": "code",
   "execution_count": 81,
   "id": "balanced-disposal",
   "metadata": {},
   "outputs": [],
   "source": [
    "X_train, X_test, y_train, y_test = train_test_split(X_new, y, test_size=0.1, random_state=5)"
   ]
  },
  {
   "cell_type": "code",
   "execution_count": 82,
   "id": "powered-bible",
   "metadata": {},
   "outputs": [],
   "source": [
    "model = XGBRegressor(random_state=101, objective=\"reg:squarederror\")"
   ]
  },
  {
   "cell_type": "code",
   "execution_count": 83,
   "id": "secure-charleston",
   "metadata": {},
   "outputs": [
    {
     "data": {
      "text/plain": [
       "XGBRegressor(base_score=0.5, booster='gbtree', callbacks=None,\n",
       "             colsample_bylevel=1, colsample_bynode=1, colsample_bytree=1,\n",
       "             early_stopping_rounds=None, enable_categorical=False,\n",
       "             eval_metric=None, gamma=0, gpu_id=-1, grow_policy='depthwise',\n",
       "             importance_type=None, interaction_constraints='',\n",
       "             learning_rate=0.300000012, max_bin=256, max_cat_to_onehot=4,\n",
       "             max_delta_step=0, max_depth=6, max_leaves=0, min_child_weight=1,\n",
       "             missing=nan, monotone_constraints='()', n_estimators=100, n_jobs=0,\n",
       "             num_parallel_tree=1, predictor='auto', random_state=101,\n",
       "             reg_alpha=0, reg_lambda=1, ...)"
      ]
     },
     "execution_count": 83,
     "metadata": {},
     "output_type": "execute_result"
    }
   ],
   "source": [
    "model.fit(X_train, y_train)"
   ]
  },
  {
   "cell_type": "code",
   "execution_count": 84,
   "id": "compressed-moore",
   "metadata": {},
   "outputs": [
    {
     "data": {
      "text/html": [
       "<div>\n",
       "<style scoped>\n",
       "    .dataframe tbody tr th:only-of-type {\n",
       "        vertical-align: middle;\n",
       "    }\n",
       "\n",
       "    .dataframe tbody tr th {\n",
       "        vertical-align: top;\n",
       "    }\n",
       "\n",
       "    .dataframe thead th {\n",
       "        text-align: right;\n",
       "    }\n",
       "</style>\n",
       "<table border=\"1\" class=\"dataframe\">\n",
       "  <thead>\n",
       "    <tr style=\"text-align: right;\">\n",
       "      <th></th>\n",
       "      <th>train</th>\n",
       "      <th>test</th>\n",
       "    </tr>\n",
       "  </thead>\n",
       "  <tbody>\n",
       "    <tr>\n",
       "      <th>R2</th>\n",
       "      <td>0.996596</td>\n",
       "      <td>0.969234</td>\n",
       "    </tr>\n",
       "    <tr>\n",
       "      <th>mae</th>\n",
       "      <td>0.115190</td>\n",
       "      <td>0.631831</td>\n",
       "    </tr>\n",
       "    <tr>\n",
       "      <th>mse</th>\n",
       "      <td>0.087038</td>\n",
       "      <td>0.777716</td>\n",
       "    </tr>\n",
       "    <tr>\n",
       "      <th>rmse</th>\n",
       "      <td>0.295022</td>\n",
       "      <td>0.881882</td>\n",
       "    </tr>\n",
       "  </tbody>\n",
       "</table>\n",
       "</div>"
      ],
      "text/plain": [
       "         train      test\n",
       "R2    0.996596  0.969234\n",
       "mae   0.115190  0.631831\n",
       "mse   0.087038  0.777716\n",
       "rmse  0.295022  0.881882"
      ]
     },
     "execution_count": 84,
     "metadata": {},
     "output_type": "execute_result"
    }
   ],
   "source": [
    "train_val(model, X_train, y_train, X_test, y_test)"
   ]
  },
  {
   "cell_type": "code",
   "execution_count": 85,
   "id": "8f14294a",
   "metadata": {},
   "outputs": [
    {
     "data": {
      "text/plain": [
       "test_r2                             0.857066\n",
       "test_neg_mean_absolute_error       -0.721512\n",
       "test_neg_mean_squared_error        -2.696537\n",
       "test_neg_root_mean_squared_error   -1.403179\n",
       "dtype: float64"
      ]
     },
     "execution_count": 85,
     "metadata": {},
     "output_type": "execute_result"
    }
   ],
   "source": [
    "model = XGBRegressor(random_state=101, objective=\"reg:squarederror\")\n",
    "scores = cross_validate(model, X_train, y_train, scoring=['r2', \n",
    "            'neg_mean_absolute_error','neg_mean_squared_error','neg_root_mean_squared_error'], cv =10)\n",
    "pd.DataFrame(scores).iloc[:, 2:].mean()"
   ]
  },
  {
   "cell_type": "markdown",
   "id": "a1b7ecb2",
   "metadata": {},
   "source": [
    "## Gridsearch for the new XGBoost model"
   ]
  },
  {
   "cell_type": "code",
   "execution_count": 86,
   "id": "1918e970",
   "metadata": {},
   "outputs": [],
   "source": [
    "param_grid = {\"n_estimators\":[100, 300,500],'max_depth':[3,5,6,7], \"learning_rate\": [0.05, 0.1, 0.2],\n",
    "             \"subsample\":[0.5, 1], \"colsample_bytree\":[0.5, 1]}"
   ]
  },
  {
   "cell_type": "code",
   "execution_count": 87,
   "id": "9afe3a3c",
   "metadata": {},
   "outputs": [],
   "source": [
    "model = XGBRegressor(random_state=101, objective=\"reg:squarederror\")\n",
    "grid_model = GridSearchCV(estimator=model,\n",
    "                          param_grid=param_grid,\n",
    "                          scoring='neg_root_mean_squared_error',\n",
    "                          cv=10,\n",
    "                          n_jobs = -1)"
   ]
  },
  {
   "cell_type": "code",
   "execution_count": 88,
   "id": "62b14fd1",
   "metadata": {},
   "outputs": [
    {
     "data": {
      "text/plain": [
       "GridSearchCV(cv=10,\n",
       "             estimator=XGBRegressor(base_score=None, booster=None,\n",
       "                                    callbacks=None, colsample_bylevel=None,\n",
       "                                    colsample_bynode=None,\n",
       "                                    colsample_bytree=None,\n",
       "                                    early_stopping_rounds=None,\n",
       "                                    enable_categorical=False, eval_metric=None,\n",
       "                                    gamma=None, gpu_id=None, grow_policy=None,\n",
       "                                    importance_type=None,\n",
       "                                    interaction_constraints=None,\n",
       "                                    learning_rate=None, max_bin=None,\n",
       "                                    max_ca...\n",
       "                                    min_child_weight=None, missing=nan,\n",
       "                                    monotone_constraints=None, n_estimators=100,\n",
       "                                    n_jobs=None, num_parallel_tree=None,\n",
       "                                    predictor=None, random_state=101,\n",
       "                                    reg_alpha=None, reg_lambda=None, ...),\n",
       "             n_jobs=-1,\n",
       "             param_grid={'colsample_bytree': [0.5, 1],\n",
       "                         'learning_rate': [0.05, 0.1, 0.2],\n",
       "                         'max_depth': [3, 5, 6, 7],\n",
       "                         'n_estimators': [100, 300, 500],\n",
       "                         'subsample': [0.5, 1]},\n",
       "             scoring='neg_root_mean_squared_error')"
      ]
     },
     "execution_count": 88,
     "metadata": {},
     "output_type": "execute_result"
    }
   ],
   "source": [
    "grid_model.fit(X_train, y_train)"
   ]
  },
  {
   "cell_type": "code",
   "execution_count": 89,
   "id": "ff2c16b6",
   "metadata": {},
   "outputs": [
    {
     "data": {
      "text/plain": [
       "{'colsample_bytree': 1,\n",
       " 'learning_rate': 0.2,\n",
       " 'max_depth': 3,\n",
       " 'n_estimators': 100,\n",
       " 'subsample': 0.5}"
      ]
     },
     "execution_count": 89,
     "metadata": {},
     "output_type": "execute_result"
    }
   ],
   "source": [
    "grid_model.best_params_"
   ]
  },
  {
   "cell_type": "code",
   "execution_count": 90,
   "id": "02f26064",
   "metadata": {},
   "outputs": [
    {
     "data": {
      "text/plain": [
       "-1.1933254342552015"
      ]
     },
     "execution_count": 90,
     "metadata": {},
     "output_type": "execute_result"
    }
   ],
   "source": [
    "grid_model.best_score_"
   ]
  },
  {
   "cell_type": "code",
   "execution_count": 91,
   "id": "904e1d51",
   "metadata": {},
   "outputs": [
    {
     "data": {
      "text/html": [
       "<div>\n",
       "<style scoped>\n",
       "    .dataframe tbody tr th:only-of-type {\n",
       "        vertical-align: middle;\n",
       "    }\n",
       "\n",
       "    .dataframe tbody tr th {\n",
       "        vertical-align: top;\n",
       "    }\n",
       "\n",
       "    .dataframe thead th {\n",
       "        text-align: right;\n",
       "    }\n",
       "</style>\n",
       "<table border=\"1\" class=\"dataframe\">\n",
       "  <thead>\n",
       "    <tr style=\"text-align: right;\">\n",
       "      <th></th>\n",
       "      <th>train</th>\n",
       "      <th>test</th>\n",
       "    </tr>\n",
       "  </thead>\n",
       "  <tbody>\n",
       "    <tr>\n",
       "      <th>R2</th>\n",
       "      <td>0.992991</td>\n",
       "      <td>0.960710</td>\n",
       "    </tr>\n",
       "    <tr>\n",
       "      <th>mae</th>\n",
       "      <td>0.284564</td>\n",
       "      <td>0.661908</td>\n",
       "    </tr>\n",
       "    <tr>\n",
       "      <th>mse</th>\n",
       "      <td>0.179196</td>\n",
       "      <td>0.993194</td>\n",
       "    </tr>\n",
       "    <tr>\n",
       "      <th>rmse</th>\n",
       "      <td>0.423315</td>\n",
       "      <td>0.996591</td>\n",
       "    </tr>\n",
       "  </tbody>\n",
       "</table>\n",
       "</div>"
      ],
      "text/plain": [
       "         train      test\n",
       "R2    0.992991  0.960710\n",
       "mae   0.284564  0.661908\n",
       "mse   0.179196  0.993194\n",
       "rmse  0.423315  0.996591"
      ]
     },
     "execution_count": 91,
     "metadata": {},
     "output_type": "execute_result"
    }
   ],
   "source": [
    "train_val(grid_model, X_train, y_train, X_test, y_test)"
   ]
  },
  {
   "cell_type": "markdown",
   "id": "8a36367b",
   "metadata": {},
   "source": [
    "### Conclusion\n",
    "When we compare the scores, the new model with only two features provided similar R2 and error scores with the XGBoost model, albeit a little bit lower scores. Before using GridSearchCV we received a 0.971 R2 test score in XGBoosting. After GridsearchCV, it increased to 0.973.\n",
    "\n",
    "Likewise, the scores in the new XGBoost model with two features did not change much: the R2 test score before GridSearchCV is 0.969 and after GridSearchCV is 0.960. We can see similar results in error scores."
   ]
  }
 ],
 "metadata": {
  "kernelspec": {
   "display_name": "Python 3 (ipykernel)",
   "language": "python",
   "name": "python3"
  },
  "language_info": {
   "codemirror_mode": {
    "name": "ipython",
    "version": 3
   },
   "file_extension": ".py",
   "mimetype": "text/x-python",
   "name": "python",
   "nbconvert_exporter": "python",
   "pygments_lexer": "ipython3",
   "version": "3.9.12"
  }
 },
 "nbformat": 4,
 "nbformat_minor": 5
}
